{
  "cells": [
    {
      "cell_type": "markdown",
      "metadata": {
        "id": "vjMpflG0-nQF"
      },
      "source": [
        "# Introducción al uso de Python para Análisis de Datos"
      ]
    },
    {
      "cell_type": "markdown",
      "metadata": {
        "id": "fqfMWThj-nQK"
      },
      "source": [
        "LINK A GOOGLE COLAB: <https://colab.research.google.com/> <br>\n",
        "LINK A REPOSITORIO DE GITHUB: <https://github.com/estebanrucan/taller-python>"
      ]
    },
    {
      "cell_type": "markdown",
      "metadata": {
        "id": "E05DMqFp-nQL"
      },
      "source": [
        "## Contenidos\n",
        "\n",
        "<style>\n",
        "\n",
        ".row {\n",
        "  width: 100%;\n",
        "  display: flex;\n",
        "  flex-direction: row;\n",
        "  justify-content: space-around;\n",
        "}\n",
        ".block {\n",
        "  width: 400px;\n",
        "}\n",
        "\n",
        "</style>\n",
        "\n",
        "<div class=\"row\">\n",
        "\n",
        "<div class=\"block\">\n",
        "\n",
        "<img src=\"https://github.com/estebanrucan/taller-python/raw/master/img/taller.jpeg\"  height=\"450px\">\n",
        "\n",
        "</div>\n",
        "\n",
        "<div class=\"block\">\n",
        "\n",
        "## Primer bloque\n",
        "\n",
        "### Containers\n",
        "* Listas, Tuplas, Diccionarios.\n",
        "* Subsettings.\n",
        "* Funciones y métodos importantes.\n",
        "\n",
        "### Estructuras de control\n",
        "* Estructuras condicionales.\n",
        "* Estructuras iterativas.\n",
        "* Comprensión.\n",
        "\n",
        "### Funciones\n",
        "* Built-in\n",
        "* Definidas por usuario: `def` y `lambda`.\n",
        "* Diferencia con métodos.\n",
        "* Librerías y pip.\n",
        "\n",
        "</div>\n",
        "\n",
        "<div class=\"block\">\n",
        "\n",
        "## Segundo bloque\n",
        "\n",
        "### NumPy\n",
        "* Arrays.\n",
        "* Vectorización y coerción.\n",
        "* Manipulación básica.\n",
        "\n",
        "### Pandas\n",
        "* Estructuras DataFrame y Series.\n",
        "* Carga de bases de datos.\n",
        "* Transformación básica de datos.\n",
        "\n",
        "### Visualización de Datos\n",
        "* Desde objetos iterables.\n",
        "* Desde DataFrames.\n",
        "\n",
        "### Referencias\n",
        "* Referencias.\n",
        "* Material complementario y links de interés.\n",
        "\n",
        "</div>\n",
        "</div>"
      ]
    },
    {
      "cell_type": "markdown",
      "metadata": {
        "id": "bl2ZjND1-nQM"
      },
      "source": [
        "## Containers"
      ]
    },
    {
      "cell_type": "markdown",
      "metadata": {
        "id": "snHpNxEd-nQM"
      },
      "source": [
        "\n",
        "* Se pueden definir como una colección de objetos dentro de una variable.\n",
        "* Entre los que más destacan: `listas`, `tuplas` y `diccionarios`.\n",
        "* `Listas`: Contienen un set de valores que son guardados de forma secuencial. Es mutable, es decir, se pueden agregar, quitar o modificar elementos dentro de este.\n",
        "* `Tuplas`: Estas no son mutables, pero tienen la ventaja de usar menos memoria y ser más rápidas.\n",
        "* `Diccionarios`: Estos tienen la ventaja de poder identificar cada elementos a través de una `key`."
      ]
    },
    {
      "cell_type": "code",
      "execution_count": null,
      "metadata": {
        "id": "grjbeI0B-nQN"
      },
      "outputs": [],
      "source": [
        "# Ejemplo de diccionario\n",
        "\n",
        "diccionario_edades = {\"esteban\": 23, \"alexis\": 50, \"pedrito\": 10} # a cada valor le asigno un nombre\n"
      ]
    },
    {
      "cell_type": "code",
      "execution_count": null,
      "metadata": {
        "id": "9QHM1kK7-irW"
      },
      "outputs": [],
      "source": [
        "# Ejemplo de lista\n",
        "\n",
        "precios = [1000, 500, 3000, 5000, 100] # si se puede editar\n",
        "#           0      1    2     3    4\n",
        "# Ejemplo de tupla\n",
        "\n",
        "precios_tupla = (1000, 500, 3000, 5000, 100) # No se puede editar"
      ]
    },
    {
      "cell_type": "markdown",
      "metadata": {
        "id": "8wARlV5--nQO"
      },
      "source": [
        "### Subsettings"
      ]
    },
    {
      "cell_type": "markdown",
      "metadata": {
        "id": "W09kw8_z-nQO"
      },
      "source": [
        "<img src=\"https://cdn.programiz.com/sites/tutorial2program/files/python-list-index.png\" width=\"500px\">"
      ]
    },
    {
      "cell_type": "markdown",
      "metadata": {
        "id": "s8Ept4YD-nQP"
      },
      "source": [
        "* Existe la posibilidad de acceder a objectos dentro de containers usando paréntesis rectangulares.\n",
        "* Para acceder a objetos del tipo `listas` y `tuplas` la sintaxis es idéntica. Numeración de índices comienza desde el 0.\n",
        "* Para `diccionarios`, podemos acceder a los elementos escribiendo el nombre de la `key` entre paréntesis rectangulares."
      ]
    },
    {
      "cell_type": "code",
      "execution_count": null,
      "metadata": {
        "colab": {
          "base_uri": "https://localhost:8080/"
        },
        "id": "cj7ObEYz-nQP",
        "outputId": "998e0c47-0fe8-4f9d-ff28-fc1a4ec121dc"
      },
      "outputs": [
        {
          "name": "stdout",
          "output_type": "stream",
          "text": [
            "500 5000\n",
            "23\n"
          ]
        }
      ],
      "source": [
        "# Se parte con parentesis cuadrado en los 3 casos\n",
        "\n",
        "# Subsettings en listas: accediendo al elemento numero 2 de izq. a der.\n",
        "\n",
        "precios[1] # Para acceder al elemento 2, es el índice 1\n",
        "\n",
        "# penúltimo elemento:\n",
        "\n",
        "precios[-2]\n",
        "\n",
        "print(precios[1], precios[-2]) # para ver los resultados en pantalla\n",
        "\n",
        "# Subsettings en diccionarios: veamos edad de esteban -> key, 23 -> value\n",
        "\n",
        "print(diccionario_edades[\"esteban\"])\n"
      ]
    },
    {
      "cell_type": "markdown",
      "metadata": {
        "id": "y50Q2TjX-nQQ"
      },
      "source": [
        "### Métodos importantes para listas\n",
        "\n",
        "* `append` : Agregar elemento al final.\n",
        "* `pop`    : Retorna y elimina el objecto ubicado en el índice indicado.\n",
        "* `remove` : Se usa cuando se conoce el nombre del elemento pero no su posición.\n",
        "* `reverse`: Cambia dirección en que se encuetran ubicacos los elementos de una lista.\n",
        "* `sort`   : Por defecto, ordena elementos de menor a mayor.\n",
        "* `index`: Busca un elemento dentro de una lista y entrega la posición.\n",
        "\n",
        "### Funciones importantes para listas.\n",
        "\n",
        "* `len`      : Indica tamaño de lista.\n",
        "* `min`      : Mínimo valor dentro de lista.\n",
        "* `max`      : Máximo valor dentro de lista.\n",
        "* `sum`      : Suma elementos dentro de lista.\n",
        "* `zip`      : concatena listas en un objeto iterable, luego podemos usar la función `list` para acceder al resultado.\n",
        "* `enumerate`: Crea un containter donde cada posición esta compuesta por una tupla conteniendo el índice y elementos de una lista. Podemos usar la función `list` para acceder al resultado"
      ]
    },
    {
      "cell_type": "code",
      "execution_count": null,
      "metadata": {
        "id": "wfCbET8b-nQQ"
      },
      "outputs": [],
      "source": [
        "precios = [1000, 2000, 1500, 300, 600, 500, 5000]\n",
        "nombres = [\"Esteban\", \"Sebastián\", \"Ana\", \"María\", \"Victoria\", \"Francisco\", \"Carlos\"]"
      ]
    },
    {
      "cell_type": "code",
      "execution_count": null,
      "metadata": {
        "id": "DZIlieIA-nQR"
      },
      "outputs": [],
      "source": [
        "# Ejemplos de funciones y métodos\n",
        "# métodos: se escriben al final de una variable\n",
        "# funciones: llama a la función y escribe entre parentesis el objeto\n",
        "\n",
        "# METODOS:\n",
        "# a precios agregarle al final el valor 3000\n",
        "precios.append(3000) # Sólo esta agregando un elemento, no esta mostrando resultado"
      ]
    },
    {
      "cell_type": "code",
      "execution_count": null,
      "metadata": {
        "colab": {
          "base_uri": "https://localhost:8080/"
        },
        "id": "vBSbYqcKBtCE",
        "outputId": "9c305738-f5f2-451b-a4ae-0919590fdae8"
      },
      "outputs": [
        {
          "name": "stdout",
          "output_type": "stream",
          "text": [
            "8\n",
            "300\n",
            "[1000, 2000, 1500, 300, 600, 500, 5000, 3000]\n"
          ]
        }
      ],
      "source": [
        "# FUNCIONES:\n",
        "# tamaño de precios:\n",
        "print(len(precios))\n",
        "# mínimo de precios\n",
        "print(min(precios))\n",
        "\n",
        "print(precios)"
      ]
    },
    {
      "cell_type": "code",
      "execution_count": null,
      "metadata": {
        "colab": {
          "base_uri": "https://localhost:8080/"
        },
        "id": "BdXIn6alCJuO",
        "outputId": "ef3c0a83-9dab-41b6-c916-f194ecb65c0b"
      },
      "outputs": [
        {
          "data": {
            "text/plain": [
              "[('Esteban', 1000),\n",
              " ('Sebastián', 2000),\n",
              " ('Ana', 1500),\n",
              " ('María', 300),\n",
              " ('Victoria', 600),\n",
              " ('Francisco', 500),\n",
              " ('Carlos', 5000)]"
            ]
          },
          "execution_count": 20,
          "metadata": {},
          "output_type": "execute_result"
        }
      ],
      "source": [
        "# zip:\n",
        "\n",
        "listas_combinadas = list(zip(nombres, precios))"
      ]
    },
    {
      "cell_type": "code",
      "execution_count": null,
      "metadata": {
        "colab": {
          "base_uri": "https://localhost:8080/"
        },
        "id": "Av1ae7TxDIvm",
        "outputId": "5242b05e-d4b3-4d90-a413-08762ea52ad3"
      },
      "outputs": [
        {
          "data": {
            "text/plain": [
              "{'nombre': ['Esteban',\n",
              "  'Sebastián',\n",
              "  'Ana',\n",
              "  'María',\n",
              "  'Victoria',\n",
              "  'Francisco',\n",
              "  'Carlos'],\n",
              " 'precio': [1000, 2000, 1500, 300, 600, 500, 5000, 3000]}"
            ]
          },
          "execution_count": 22,
          "metadata": {},
          "output_type": "execute_result"
        }
      ],
      "source": [
        "{\"nombre\": nombres, \"precio\": precios}"
      ]
    },
    {
      "cell_type": "markdown",
      "metadata": {
        "id": "GtVFdhhM-nQR"
      },
      "source": [
        "### Métodos importantes para diccionarios\n",
        "* `items` : Entrega una lista conteniendo una tupla para para par `key`, `valor`.\n",
        "* `keys`   : Entrega una lista con todas las `keys` de un diccionario.\n",
        "* `values`: Entrega una lista con todos los `valores` de un diccionario.\n",
        "* `pop`   : Elimina del diccionario y retorna elemento ubicado en cierta `key`."
      ]
    },
    {
      "cell_type": "code",
      "execution_count": null,
      "metadata": {
        "colab": {
          "base_uri": "https://localhost:8080/"
        },
        "id": "lXDG_669-nQR",
        "outputId": "9c46eddb-a181-4179-bd94-5d7f95ee8fdb"
      },
      "outputs": [
        {
          "name": "stdout",
          "output_type": "stream",
          "text": [
            "dict_items([('esteban', 23), ('alexis', 50), ('pedrito', 10)])\n"
          ]
        }
      ],
      "source": [
        "# Ejemplos de métodos para diccionarios\n",
        "\n",
        "print(diccionario_edades.items())"
      ]
    },
    {
      "cell_type": "markdown",
      "metadata": {
        "id": "At2AvjS--nQS"
      },
      "source": [
        "## Control de flujo"
      ]
    },
    {
      "cell_type": "markdown",
      "metadata": {
        "id": "TVxp5gRL-nQS"
      },
      "source": [
        "### Operadores\n",
        "\n",
        "* **Operadores comparativos** : Estas expresiones comparan dos valores y evaluan si son `True` o `False`. Estos son `<`,   `>`,  `<=`, `>=`, `==`, `!=`.\n",
        "* **Operadores lógicos**      : Estos operan entre elementos que son del tipo booleano (`True/False`). Encontramos a `or`, `and` y `not`.\n",
        "* **Operadores de asignación**: Estos asignan un valor a una variable u operador. Están `=`,                               `+=`, `-=`, `*=`, `/=`, entre otros.\n",
        "* **Operadores de membresía** : Comprueban si un valor en particular se encuentran en un container (como `listas` o `tuplas`). Son `in` y `not in`."
      ]
    },
    {
      "cell_type": "code",
      "execution_count": null,
      "metadata": {
        "colab": {
          "base_uri": "https://localhost:8080/"
        },
        "id": "vtnQpEai-nQS",
        "outputId": "e55e07c3-dc01-410d-b86b-ef225147997e"
      },
      "outputs": [
        {
          "name": "stdout",
          "output_type": "stream",
          "text": [
            "False\n",
            "True\n",
            "False\n",
            "True\n",
            "True\n"
          ]
        }
      ],
      "source": [
        "# Ejemplos de operadores\n",
        "\n",
        "print(2 > 3)\n",
        "print(2 != 3) # !=: distinto\n",
        "# operadores lógicos:\n",
        "print((2 > 3) and (2 != 3))\n",
        "print((2 > 3) or (2 != 3))\n",
        "print(not (2 > 3) and (2 != 3)) # not 2 > 3: True"
      ]
    },
    {
      "cell_type": "code",
      "execution_count": null,
      "metadata": {
        "colab": {
          "base_uri": "https://localhost:8080/"
        },
        "id": "foI81-fWEVFs",
        "outputId": "4cdfae4a-0553-475a-cc18-f1a9ec41eda9"
      },
      "outputs": [
        {
          "name": "stdout",
          "output_type": "stream",
          "text": [
            "5500\n"
          ]
        }
      ],
      "source": [
        "# asignaciones\n",
        "precio = 5000\n",
        "precio += 500 # alternativa a precio = precio + 500\n",
        "print(precio)"
      ]
    },
    {
      "cell_type": "code",
      "execution_count": null,
      "metadata": {
        "colab": {
          "base_uri": "https://localhost:8080/"
        },
        "id": "ASYl62ylE85S",
        "outputId": "df311c4b-63dc-4038-81ef-87f3448317bd"
      },
      "outputs": [
        {
          "name": "stdout",
          "output_type": "stream",
          "text": [
            "[1000, 2000, 1500, 300, 600, 500, 5000, 3000]\n",
            "True\n"
          ]
        }
      ],
      "source": [
        "# Membresía\n",
        "print(precios)\n",
        "print(300 in precios)"
      ]
    },
    {
      "cell_type": "markdown",
      "metadata": {
        "id": "wtETXNxT-nQS"
      },
      "source": [
        "### Estructuras condicionales\n",
        "\n",
        "* Evalúan una condición o un grupo de condiciones. En Python, el constructo `if-elif-else` es usado para este propósito.\n",
        "* Pueden ser anidados."
      ]
    },
    {
      "cell_type": "code",
      "execution_count": null,
      "metadata": {
        "colab": {
          "base_uri": "https://localhost:8080/"
        },
        "id": "ciDX-Emp-nQS",
        "outputId": "ae824d94-f4a2-49a1-ef4d-a1c04a143561"
      },
      "outputs": [
        {
          "name": "stdout",
          "output_type": "stream",
          "text": [
            "Somos pocos pero locos\n"
          ]
        }
      ],
      "source": [
        "# Ejemplo sentencia if-elif-else\n",
        "\n",
        "asistencia = 50\n",
        "\n",
        "if asistencia > 200:\n",
        "  print(\"Bienvenid@s!!!\")\n",
        "elif asistencia > 100:\n",
        "  print(\"Gracias por asistir!!!\")\n",
        "else: # si no se cumplen ambas condiciones:\n",
        "  print(\"Somos pocos pero locos\")"
      ]
    },
    {
      "cell_type": "markdown",
      "metadata": {
        "id": "XN020nyV-nQT"
      },
      "source": [
        "### Estructuras iterativas\n",
        "\n",
        "* Son usados para evaluar una porción de códido reiteradamente. Una sola ejecución de un bloque de código es llamada `iteración` y las estructuras iterativas van a través de múltiples rondas de iteraciones. En Python, las estructuras iterativas son `while` y `for`.\n",
        "* `while`: Es usando cuando queremos ejecutar una instrucción en particular mientras una condición es `True`.\n",
        "* `for`: Es usado para ejecutar un bloque de código una cantidad predefinida de veces. Puede ser usadado con cualquier tipo de objeto iterable (como `listas` o `tuplas`). También es usado comúnmente con la función `range`.\n"
      ]
    },
    {
      "cell_type": "code",
      "execution_count": null,
      "metadata": {
        "colab": {
          "base_uri": "https://localhost:8080/"
        },
        "id": "dHiPJ74D-nQT",
        "outputId": "cdceee4f-852a-41cf-978e-c0abf52993f7"
      },
      "outputs": [
        {
          "name": "stdout",
          "output_type": "stream",
          "text": [
            "64 2016\n"
          ]
        }
      ],
      "source": [
        "# Ejemplo while: calcular cantidad de numeros consecutivos necesitados para que sumen no más de 2000, comenzando desde el 1\n",
        "\n",
        "i = 1\n",
        "acumulador = 0\n",
        "\n",
        "while acumulador < 2000:\n",
        "  acumulador += i\n",
        "  i += 1\n",
        "\n",
        "print(i, acumulador)\n",
        "# conlcusión: la suma de los números hasta el 64 es 2016"
      ]
    },
    {
      "cell_type": "code",
      "execution_count": null,
      "metadata": {
        "colab": {
          "base_uri": "https://localhost:8080/"
        },
        "id": "037NkhI2-nQT",
        "outputId": "69e13776-ddd5-4708-a587-918df85d8e91"
      },
      "outputs": [
        {
          "name": "stdout",
          "output_type": "stream",
          "text": [
            "62500\n"
          ]
        }
      ],
      "source": [
        "# Ejemplo for: sumar números impares ubicados entre 1 y 500\n",
        "acumulador = 0\n",
        "# %: Resto de la división\n",
        "\n",
        "for i in range(1, 501): # iterando sobre una lista con los números desde el 1 hasta el 500\n",
        "  if i % 2 == 1: # Si el resto de la división entre i y 2 es 1 -> el número es impar\n",
        "    acumulador += i\n",
        "\n",
        "print(acumulador)"
      ]
    },
    {
      "cell_type": "markdown",
      "metadata": {
        "id": "TxwABKc6-nQU"
      },
      "source": [
        "### Listas por comprensión"
      ]
    },
    {
      "cell_type": "markdown",
      "metadata": {
        "id": "osLd0xYI-nQU"
      },
      "source": [
        "Es una forma de crear listas a través de objetos iterables mucho más elegante y contraida respecto a la sentencia `for`. Además, se pueden añadir estructuras `if-else`."
      ]
    },
    {
      "cell_type": "code",
      "execution_count": null,
      "metadata": {
        "colab": {
          "base_uri": "https://localhost:8080/"
        },
        "id": "mrqZOnMy-nQU",
        "outputId": "6957aaee-6b56-43cc-f7f2-0fcd806c3f06"
      },
      "outputs": [
        {
          "data": {
            "text/plain": [
              "62500"
            ]
          },
          "execution_count": 43,
          "metadata": {},
          "output_type": "execute_result"
        }
      ],
      "source": [
        "# Ejemplo de lista por comprensión: sumar números impares ubicados entre 1 y 500\n",
        "\n",
        "sum([i for i in range(1, 501) if i % 2 == 1])"
      ]
    },
    {
      "cell_type": "markdown",
      "metadata": {
        "id": "S4k43RaH-nQU"
      },
      "source": [
        "## Funciones y métodos\n",
        "\n",
        "Una función es un bloque de código con un nombre asociado, que recibe cero o más argumentos como entrada, sigue una secuencia de sentencias, la cuales ejecuta una operación deseada y devuelve un valor y/o realiza una tarea, este bloque puede ser llamados cuando se necesite."
      ]
    },
    {
      "cell_type": "markdown",
      "metadata": {
        "id": "ZK_mdw3E-nQU"
      },
      "source": [
        "### Funciones `built-in` (ya están incorporadas)\n",
        "Algunas son:\n",
        "* `abs(v)`      : entrega valor absoluto de un valor.\n",
        "* `all(x)`      : retorna `True` si todos los valores de un iterable son `True`.\n",
        "* `any(x)`      : retorna `True` si algún valor de un iterable es `True`.\n",
        "* `bool(v)`     : retorna True al menos que el valor ingresado sea vacío, `False`, `None` o 0.\n",
        "* `float(v)`    : transforma valor a número de punto flotante (a decimal).\n",
        "* `int(v)`      : transforma valor a número entero.\n",
        "* `list(x)`     : crea un objeto tipo lista.\n",
        "* `pow(b,e)`    : calcula $b^e$ (alternativa a `b**e`).\n",
        "* `print(o)`    : convierte a `string` y muestra en pantalla un objeto.\n",
        "* `range(i,f,s)`: crea una secuencia de números enteros desde `i` hasta `f-1` con salto `s`.\n",
        "* `round(v, n)` : redondea un valor a `n` decimales.\n",
        "* `str(o)`      : convierte un objecto a `string`.\n",
        "* `type(o)`        : retorna tipo de un objeto."
      ]
    },
    {
      "cell_type": "code",
      "execution_count": null,
      "metadata": {
        "colab": {
          "base_uri": "https://localhost:8080/"
        },
        "id": "XGTMXkNy-nQU",
        "outputId": "7fe7f8fe-c20a-4263-b2d2-b0dfa6554055"
      },
      "outputs": [
        {
          "name": "stdout",
          "output_type": "stream",
          "text": [
            "True\n",
            "False\n"
          ]
        }
      ],
      "source": [
        "# Ejemplos de funciones \n",
        "print(bool(50))\n",
        "print(bool(0))\n"
      ]
    },
    {
      "cell_type": "markdown",
      "metadata": {
        "id": "PrntifgO-nQV"
      },
      "source": [
        "### Definidas por el usuario\n",
        "\n",
        "* `def`: Es una definición de función usada para crear funciones personalizadas. Esta no ejecuta el cuerpo de la función, solo lo hace cuando esta es llamada, usualmente se termina con la sentencia `return`.\n",
        "* `lambda`: Es una forma contraida para realizar funciones personalizas. A diferencia de `def`, esta no posee un nombre y por lo tanto no puede ser referenciada más tarde."
      ]
    },
    {
      "cell_type": "markdown",
      "metadata": {
        "id": "AMfbbplz-nQV"
      },
      "source": [
        "Definir \n",
        "\n",
        "$$f(x) = \\left\\{\n",
        "\\begin{array}{ll}\n",
        "2x + 1  & x \\leq 0  \\\\ x^2   & x > 0\n",
        "\\end{array} \\right.$$"
      ]
    },
    {
      "cell_type": "code",
      "execution_count": null,
      "metadata": {
        "colab": {
          "base_uri": "https://localhost:8080/"
        },
        "id": "CLTXqYn--nQV",
        "outputId": "caabaaf3-2d1c-4a85-d45c-ae877b940b9c"
      },
      "outputs": [
        {
          "name": "stdout",
          "output_type": "stream",
          "text": [
            "25\n",
            "-19\n"
          ]
        }
      ],
      "source": [
        "# Ejemplo def\n",
        "\n",
        "def f(x):\n",
        "  if x <= 0:\n",
        "    return 2 * x + 1\n",
        "  else: # en caso contrario\n",
        "    return x ** 2 # es x ^ 2\n",
        "\n",
        "print(f(5))\n",
        "print(f(-10))"
      ]
    },
    {
      "cell_type": "code",
      "execution_count": null,
      "metadata": {
        "colab": {
          "base_uri": "https://localhost:8080/"
        },
        "id": "Rc5TVegm-nQV",
        "outputId": "ebbfd547-5b68-4900-9f32-a0a8b09ebdfe"
      },
      "outputs": [
        {
          "name": "stdout",
          "output_type": "stream",
          "text": [
            "25\n",
            "-19\n"
          ]
        }
      ],
      "source": [
        "# Ejemplo lambda\n",
        "f = lambda x: 2 * x + 1 if x <= 0 else x ** 2\n",
        "print(f(5))\n",
        "print(f(-10))"
      ]
    },
    {
      "cell_type": "markdown",
      "metadata": {
        "id": "EEbb6A4n-nQV"
      },
      "source": [
        "### Diferencia con métodos"
      ]
    },
    {
      "cell_type": "markdown",
      "metadata": {
        "id": "Ouo_m4-y-nQV"
      },
      "source": [
        "La principal diferencia es que un `método` es parte de una clase, o sea que es parte de la funcionalidad que tiene un objeto. En cambio, las `funciones` están definidas por si mismas."
      ]
    },
    {
      "cell_type": "code",
      "execution_count": null,
      "metadata": {
        "colab": {
          "base_uri": "https://localhost:8080/"
        },
        "id": "3iHrIrB5-nQV",
        "outputId": "254b1447-be3e-450b-8190-895ea2501598"
      },
      "outputs": [
        {
          "name": "stdout",
          "output_type": "stream",
          "text": [
            "ESTEBAN\n"
          ]
        }
      ],
      "source": [
        "# Ejemplo de método\n",
        "nombre = \"Esteban\"\n",
        "nombre = nombre.upper()\n",
        "print(nombre)"
      ]
    },
    {
      "cell_type": "code",
      "execution_count": null,
      "metadata": {
        "colab": {
          "base_uri": "https://localhost:8080/"
        },
        "id": "v5Dhx02_-nQW",
        "outputId": "3a04208c-7b31-412e-a573-557250caa8c1"
      },
      "outputs": [
        {
          "name": "stdout",
          "output_type": "stream",
          "text": [
            "['Esteban', 'Sebastián', 'Ana', 'María', 'Victoria', 'Francisco', 'Carlos']\n",
            "[(0, 'Esteban'), (1, 'Sebastián'), (2, 'Ana'), (3, 'María'), (4, 'Victoria'), (5, 'Francisco'), (6, 'Carlos')]\n"
          ]
        }
      ],
      "source": [
        "# Ejemplo de función\n",
        "print(nombres)\n",
        "print(list(enumerate(nombres))) # list: me crea una lista a partir de un objeto"
      ]
    },
    {
      "cell_type": "markdown",
      "metadata": {
        "id": "kt-s3dgB-nQW"
      },
      "source": [
        "### Manejo de librerías\n",
        "\n",
        "<img src=\"https://thinktecno.com/wp-content/uploads/2020/11/1605037028_Como-instalar-un-modulo-de-Python-con-PIP.png\" width=\"500px\">\n",
        "\n",
        "* Al momento de programar, a veces nos vemos en la necesidad de añadir nuevas funcionalidades al código, esto es gracias a las `librerías`, que nos aportan un grupo de `módulos` (o funciones).\n",
        "* Cada `librería` cuenta con una estructura definida para cumplir cierta finalidad.\n",
        "* Algunas de las `librerías` más importantes en Python para el análisis de datos son `NumPy`, `Pandas` y `Matplotlib`. \n",
        "\n",
        "#### Importación de librerías y módulos\n",
        "\n",
        "* Existe más de una forma para importar `librerías`, además podemos asignar un `alias` a la librería o función específica que importemos.\n",
        "* **Importar una librería**: `import libreria` o `import libreria as alias`. Podemos acceder a los módulos de la librería importada de la siguiente forma: `libreria.modulo` o `alias.modulo` respectivamente.\n",
        "* **Importar un módulo**: `from libreria import modulo` o `from libreria import modulo as alias`.  \n",
        "\n"
      ]
    },
    {
      "cell_type": "code",
      "execution_count": null,
      "metadata": {
        "id": "Nl1nCevz-nQW"
      },
      "outputs": [],
      "source": [
        "# Ejemplo de importación de librerías\n",
        "# import pandas # opcion 1\n",
        "import pandas as pd # Es una convención\n",
        "\n",
        "from numpy import array as a"
      ]
    },
    {
      "cell_type": "code",
      "execution_count": null,
      "metadata": {
        "colab": {
          "base_uri": "https://localhost:8080/"
        },
        "id": "CKGcVDB8N2sR",
        "outputId": "08acb4ab-54c3-4468-f9c2-bc419c3ff53b"
      },
      "outputs": [
        {
          "data": {
            "text/plain": [
              "array([1000, 2000, 1500,  300,  600,  500, 5000, 3000])"
            ]
          },
          "execution_count": 64,
          "metadata": {},
          "output_type": "execute_result"
        }
      ],
      "source": [
        "a(precios)"
      ]
    },
    {
      "cell_type": "markdown",
      "metadata": {
        "id": "ancfsWWm-nQW"
      },
      "source": [
        "#### Instalación de librerías\n",
        "* Desde un Jupyter Notebook es muy facil instalar `librerías` desde gestores como `pip` o `Anaconda`. \n",
        "* Para instalar una librería debemos escribir `!pip install libreria` o `!conda install librería` si estamos usando este gestor.\n",
        "* En Google Colab ya vienen pre-instaladas algunas librerías básicas para el Análisis de Datos, por lo que directamente se pueden utilizar.\n",
        "* Una vez instaladas podemos importarlas normalmente."
      ]
    },
    {
      "cell_type": "code",
      "execution_count": null,
      "metadata": {
        "colab": {
          "base_uri": "https://localhost:8080/"
        },
        "id": "L2aWZXQI-nQW",
        "outputId": "21480305-e98a-472a-8da0-5fe437ae1b00"
      },
      "outputs": [
        {
          "name": "stdout",
          "output_type": "stream",
          "text": [
            "Collecting sweetviz\n",
            "  Downloading sweetviz-2.1.3-py3-none-any.whl (15.1 MB)\n",
            "\u001b[K     |████████████████████████████████| 15.1 MB 193 kB/s \n",
            "\u001b[?25hRequirement already satisfied: jinja2>=2.11.1 in /usr/local/lib/python3.7/dist-packages (from sweetviz) (2.11.3)\n",
            "Requirement already satisfied: numpy>=1.16.0 in /usr/local/lib/python3.7/dist-packages (from sweetviz) (1.19.5)\n",
            "Requirement already satisfied: matplotlib>=3.1.3 in /usr/local/lib/python3.7/dist-packages (from sweetviz) (3.2.2)\n",
            "Requirement already satisfied: importlib-resources>=1.2.0 in /usr/local/lib/python3.7/dist-packages (from sweetviz) (5.4.0)\n",
            "Requirement already satisfied: scipy>=1.3.2 in /usr/local/lib/python3.7/dist-packages (from sweetviz) (1.4.1)\n",
            "Requirement already satisfied: pandas!=1.0.0,!=1.0.1,!=1.0.2,>=0.25.3 in /usr/local/lib/python3.7/dist-packages (from sweetviz) (1.1.5)\n",
            "Requirement already satisfied: tqdm>=4.43.0 in /usr/local/lib/python3.7/dist-packages (from sweetviz) (4.62.3)\n",
            "Requirement already satisfied: zipp>=3.1.0 in /usr/local/lib/python3.7/dist-packages (from importlib-resources>=1.2.0->sweetviz) (3.6.0)\n",
            "Requirement already satisfied: MarkupSafe>=0.23 in /usr/local/lib/python3.7/dist-packages (from jinja2>=2.11.1->sweetviz) (2.0.1)\n",
            "Requirement already satisfied: kiwisolver>=1.0.1 in /usr/local/lib/python3.7/dist-packages (from matplotlib>=3.1.3->sweetviz) (1.3.2)\n",
            "Requirement already satisfied: pyparsing!=2.0.4,!=2.1.2,!=2.1.6,>=2.0.1 in /usr/local/lib/python3.7/dist-packages (from matplotlib>=3.1.3->sweetviz) (2.4.7)\n",
            "Requirement already satisfied: cycler>=0.10 in /usr/local/lib/python3.7/dist-packages (from matplotlib>=3.1.3->sweetviz) (0.11.0)\n",
            "Requirement already satisfied: python-dateutil>=2.1 in /usr/local/lib/python3.7/dist-packages (from matplotlib>=3.1.3->sweetviz) (2.8.2)\n",
            "Requirement already satisfied: pytz>=2017.2 in /usr/local/lib/python3.7/dist-packages (from pandas!=1.0.0,!=1.0.1,!=1.0.2,>=0.25.3->sweetviz) (2018.9)\n",
            "Requirement already satisfied: six>=1.5 in /usr/local/lib/python3.7/dist-packages (from python-dateutil>=2.1->matplotlib>=3.1.3->sweetviz) (1.15.0)\n",
            "Installing collected packages: sweetviz\n",
            "Successfully installed sweetviz-2.1.3\n"
          ]
        }
      ],
      "source": [
        "# Ejemplo de instalación de librerías: instalar librería \"sweetviz\"\n",
        "\n",
        "!pip install sweetviz"
      ]
    },
    {
      "cell_type": "markdown",
      "metadata": {
        "id": "9EnfKnKy-nQX"
      },
      "source": [
        "## NumPy"
      ]
    },
    {
      "cell_type": "markdown",
      "metadata": {
        "id": "LA1miTdb-nQX"
      },
      "source": [
        "<img src=\"data:image/png;base64,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\" width=\"500px\">\n",
        "\n",
        "* O también _Numerical Python_, es una librería basada en Python para realizar operaciones matemáticas más complejas respecto a las las que ya están incorporadas en este lenguaje.\n",
        "* Por convención se importa con el alias `np`.\n",
        "* Su estructura más básica es el `array`, el cual es un `container` que provee características adicionales a una `lista`, tales como la multidimensionalidad, la vectorización y la coerción.\n",
        "* Podemos acceder a sus elementos a través de `subsettings`.\n",
        "* NumPy es usado como estructura base de algunas librerías como `Pandas`, `Scikit-learn`, `Scipy`, `Tensorflow`, etc."
      ]
    },
    {
      "cell_type": "markdown",
      "metadata": {
        "id": "cn_MJ0Xl-nQX"
      },
      "source": [
        "### Creación de arrays a través de listas\n",
        "\n",
        "* Una de las formas más rápidas de crear un `array` es a través de listas. Si incorporamos las denominadas __listas de listas__ obtendremos un `array` de dos dimensiones, lo que es un simil a una matriz."
      ]
    },
    {
      "cell_type": "code",
      "execution_count": 1,
      "metadata": {
        "id": "9N9bv4O4-nQX"
      },
      "outputs": [
        {
          "name": "stdout",
          "output_type": "stream",
          "text": [
            "[20 40 60 80]\n",
            "[[20 40]\n",
            " [60 80]]\n",
            "[[[20 40]\n",
            "  [60 80]]\n",
            "\n",
            " [[ 3  4]\n",
            "  [ 2 10]]]\n"
          ]
        }
      ],
      "source": [
        "import numpy as np\n",
        "# Ejemplo de array unidimensional\n",
        "\n",
        "print(np.array([20, 40, 60, 80]))\n",
        "\n",
        "# Ejemplo array de dos dimensiones (ej: matrices)\n",
        "\n",
        "print(np.array([[20, 40], [60, 80]]))\n",
        "\n",
        "# Ejemplo de array de tres dimensiones (ej: imágenes)\n",
        "\n",
        "print(np.array([[[20, 40], [60, 80]], [[3, 4], [2, 10]]]))\n"
      ]
    },
    {
      "cell_type": "markdown",
      "metadata": {
        "id": "hcyA910--nQX"
      },
      "source": [
        "### Vectorización y coerción \n",
        "* **Vectorización**: es cuando una operación o función aplicada a un `array` es reflejada en todos sus valores internos.\n",
        "* **Coerción implicita**: Se aplica cuando nuestros `arrays` tienen más de un tipo de valor. La coherción se aplica en la siguiente jerarquía: \"<em>boleano</em> `->` <em>entero</em> `->` <em>flotante</em> `->` <em>string</em>\""
      ]
    },
    {
      "cell_type": "code",
      "execution_count": 3,
      "metadata": {
        "id": "WyxxaKew-nQX"
      },
      "outputs": [
        {
          "data": {
            "text/plain": [
              "array([ 2.,  6.,  8., 10.])"
            ]
          },
          "execution_count": 3,
          "metadata": {},
          "output_type": "execute_result"
        }
      ],
      "source": [
        "# Ejemplo de vectorización\n",
        "\n",
        "np.array([20, 60, 80, 100]) / 10"
      ]
    },
    {
      "cell_type": "code",
      "execution_count": 4,
      "metadata": {
        "id": "eM_eaK7_-nQY"
      },
      "outputs": [
        {
          "data": {
            "text/plain": [
              "array([1, 0, 1, 0])"
            ]
          },
          "execution_count": 4,
          "metadata": {},
          "output_type": "execute_result"
        }
      ],
      "source": [
        "# Ejemplo de coerción\n",
        "\n",
        "np.array([True, 0, 1, False])\n"
      ]
    },
    {
      "cell_type": "markdown",
      "metadata": {
        "id": "WsCnG1Lb-nQY"
      },
      "source": [
        "### Manipulación y funciones básicas para arrays en NumPy\n",
        "\n",
        "#### Funciones básicas\n",
        "\n",
        "* `np.arange(i, f, s)`: símil de función `range`.\n",
        "* `np.linspace(i, f, n)`: crear array con `n` valores equidistantes entre `i` y `f`.\n",
        "* `np.zeros(dim)` y `np.ones(dim)`: crear array con ceros o unos de las dimensiones indicadas.\n",
        "* `np.full(dim, v)`: crear array unicamente con el valor `v` de las dimensiones indicadas.\n",
        "* `np.repeat(v, t)`: array con `t` veces el valor `v`. Este último también puede ser un array, en tal caso, repetirá cada elemente del array `t` veces. \n",
        "* `np.exp(n)`: potencia `n` del valor $e$ de Euler.\n",
        "* `np.where(condicion_array, valor_si_cumple, valor_si_no_cumple)`: array que tendra solo los valores según si `x` array cumple o no cierta condición.\n",
        "* `np.dot(A, B)`: producto punto o matricial entre `A` y `B`. Alternativamente: `A @ B`.\n",
        "* `np.random.randint`, `np.random.normal`, `np.random.exponential`, `np.random.uniform`, `np.random.poisson`: Generación de números aleatorios.\n",
        "* Otros: `np.mean`, `np.std`, `np.var`, `np.quantile`, `np.sum`, `np.prod`, `np.cumsum`, `np.cumprod`, etc."
      ]
    },
    {
      "cell_type": "code",
      "execution_count": 6,
      "metadata": {
        "id": "OagZEHZT-nQY"
      },
      "outputs": [
        {
          "name": "stdout",
          "output_type": "stream",
          "text": [
            "[ 0  1  2  3  4  5  6  7  8  9 10 11 12 13 14 15 16 17 18 19 20 21 22 23\n",
            " 24 25 26 27 28 29 30 31 32 33 34 35 36 37 38 39 40 41 42 43 44 45 46 47\n",
            " 48 49]\n",
            "[ 1.          1.47368421  1.94736842  2.42105263  2.89473684  3.36842105\n",
            "  3.84210526  4.31578947  4.78947368  5.26315789  5.73684211  6.21052632\n",
            "  6.68421053  7.15789474  7.63157895  8.10526316  8.57894737  9.05263158\n",
            "  9.52631579 10.        ]\n"
          ]
        }
      ],
      "source": [
        "# Ejemplos de funciones de NumPy\n",
        "\n",
        "print(np.arange(50))\n",
        "print(np.linspace(1, 10, 20))"
      ]
    },
    {
      "cell_type": "markdown",
      "metadata": {
        "id": "ywXQjRsn-nQY"
      },
      "source": [
        "#### Métodos básicos\n",
        "\n",
        "Supongamos que `x` es un array.\n",
        "\n",
        "* `x.shape`: dimensiones de x.\n",
        "* `x.reshape(dim)`: redimensionar array a las dimensiones indicadas.\n",
        "* `x.T`: transponer `x`.\n",
        "* `x.sort()`: ordenar array.\n",
        "* Además, cuenta con la mayoría de las funciones mencionadas arriba! `x.mean()`, `x.median()`, `x.std()`, `x.dot(A)`, etc."
      ]
    },
    {
      "cell_type": "code",
      "execution_count": 8,
      "metadata": {
        "id": "aTT4Skkb-nQY"
      },
      "outputs": [
        {
          "data": {
            "text/plain": [
              "(50,)"
            ]
          },
          "execution_count": 8,
          "metadata": {},
          "output_type": "execute_result"
        }
      ],
      "source": [
        "# Ejemplos de métodos de NumPy\n",
        "valores = np.arange(50)\n",
        "valores.shape\n"
      ]
    },
    {
      "cell_type": "markdown",
      "metadata": {
        "id": "qJtrQtND-nQY"
      },
      "source": [
        "## Pandas\n",
        "\n",
        "<img src=\"https://hermes.digitalinnovation.one/articles/cover/c068580b-7f2d-4314-a559-697487b644df.jpg\" width=\"500px\">"
      ]
    },
    {
      "cell_type": "markdown",
      "metadata": {
        "id": "-nvX3KD2-nQY"
      },
      "source": [
        "* Fue desarrollada en 2008 con el propósito de manejar series de tiempo. Su nombre se puede descomponer como _Panel Data_.\n",
        "* Por convención se importa con el alias `pd`.\n",
        "* Tiene soporte para cargar archivos y guardar archivos fuera de Python.\n",
        "* Tiene una performance bastante aceptable al estar desarrollada bajo _Cython_ (Uso de Python bajo el lenguaje C).\n",
        "* Rápida conexión con otras librerías como `NumPy`, `Matplotlib`, `Scipy` y `Scikit-learn`.\n",
        "* Soporte para transformación de datos.\n",
        "* Manejo de datos faltantes.\n",
        "* Etc."
      ]
    },
    {
      "cell_type": "markdown",
      "metadata": {
        "id": "bPTFrek6-nQZ"
      },
      "source": [
        "### Estructura DataFrame y Series\n",
        "\n",
        "* `Series`: Estructura de datos unidimensional con un conjunto de datos asociados a un índice. Se puede crear directamente desde un `array` o una `lista`.\n",
        "* `DataFrame`: Es una extensión de las `Series`. Mientras que un objecto `Series` contiene dos componentes: un set de valores e índices asociados, el `DataFrame` contiene tres componentes: Eje 0 (filas), Eje 1 (columnas) e índices asociados a cada fila. Su estrcutura básica es el `array` de NumPy. Se puede crear directamente desde un `diccionario`."
      ]
    },
    {
      "cell_type": "code",
      "execution_count": 66,
      "metadata": {
        "colab": {
          "base_uri": "https://localhost:8080/"
        },
        "id": "sXMm1UQ2-nQZ",
        "outputId": "3a25bc82-c240-4baf-9762-86b6778a82df"
      },
      "outputs": [
        {
          "name": "stdout",
          "output_type": "stream",
          "text": [
            "0    1000\n",
            "1    2000\n",
            "2    1500\n",
            "3     300\n",
            "4     600\n",
            "5     500\n",
            "6    5000\n",
            "dtype: int64\n"
          ]
        }
      ],
      "source": [
        "import pandas as pd\n",
        "# Ejemplo de crear Series\n",
        "precios = [1000, 2000, 1500, 300, 600, 500, 5000]\n",
        "\n",
        "series_precios = pd.Series(precios)\n",
        "print(series_precios)"
      ]
    },
    {
      "cell_type": "code",
      "execution_count": 69,
      "metadata": {
        "colab": {
          "base_uri": "https://localhost:8080/",
          "height": 206
        },
        "id": "IlcrQ0HK-nQZ",
        "outputId": "97cbb78a-252b-4db5-e677-fb05139d8276"
      },
      "outputs": [
        {
          "data": {
            "text/html": [
              "<div>\n",
              "<style scoped>\n",
              "    .dataframe tbody tr th:only-of-type {\n",
              "        vertical-align: middle;\n",
              "    }\n",
              "\n",
              "    .dataframe tbody tr th {\n",
              "        vertical-align: top;\n",
              "    }\n",
              "\n",
              "    .dataframe thead th {\n",
              "        text-align: right;\n",
              "    }\n",
              "</style>\n",
              "<table border=\"1\" class=\"dataframe\">\n",
              "  <thead>\n",
              "    <tr style=\"text-align: right;\">\n",
              "      <th></th>\n",
              "      <th>País</th>\n",
              "      <th>Mundiales</th>\n",
              "      <th>Copas América</th>\n",
              "    </tr>\n",
              "  </thead>\n",
              "  <tbody>\n",
              "    <tr>\n",
              "      <th>0</th>\n",
              "      <td>Chile</td>\n",
              "      <td>0</td>\n",
              "      <td>2</td>\n",
              "    </tr>\n",
              "    <tr>\n",
              "      <th>1</th>\n",
              "      <td>Argentina</td>\n",
              "      <td>2</td>\n",
              "      <td>15</td>\n",
              "    </tr>\n",
              "    <tr>\n",
              "      <th>2</th>\n",
              "      <td>Bolivia</td>\n",
              "      <td>0</td>\n",
              "      <td>1</td>\n",
              "    </tr>\n",
              "    <tr>\n",
              "      <th>3</th>\n",
              "      <td>Perú</td>\n",
              "      <td>0</td>\n",
              "      <td>2</td>\n",
              "    </tr>\n",
              "    <tr>\n",
              "      <th>4</th>\n",
              "      <td>Brasil</td>\n",
              "      <td>5</td>\n",
              "      <td>9</td>\n",
              "    </tr>\n",
              "  </tbody>\n",
              "</table>\n",
              "</div>"
            ],
            "text/plain": [
              "        País  Mundiales  Copas América\n",
              "0      Chile          0              2\n",
              "1  Argentina          2             15\n",
              "2    Bolivia          0              1\n",
              "3       Perú          0              2\n",
              "4     Brasil          5              9"
            ]
          },
          "execution_count": 69,
          "metadata": {},
          "output_type": "execute_result"
        }
      ],
      "source": [
        "# Ejemplo de crear DataFrame\n",
        "diccionario = {\n",
        "    \"País\"     : [\"Chile\", \"Argentina\", \"Bolivia\", \"Perú\", \"Brasil\"],\n",
        "    \"Mundiales\": [0, 2, 0, 0, 5],\n",
        "    \"Copas América\" : [2, 15, 1, 2, 9]\n",
        "}\n",
        "\n",
        "data_frame = pd.DataFrame(diccionario)\n",
        "data_frame"
      ]
    },
    {
      "cell_type": "markdown",
      "metadata": {
        "id": "KajtNQYj-nQZ"
      },
      "source": [
        "### Carga de datos\n",
        "\n",
        "* `Pandas` puede leer datos desde una gran variedad de formatos usando sus funciones de carga.\n",
        "* Algunas de estas funciones son `pd.read_csv`, `pd.read_excel`, `read_html` y `read_stata`.\n",
        "* Podemos indicar varios argumentos como `columns`, `date_parser` o `index_col`.\n",
        "* Además, accedemos a las cinco primeras entradas de las bases de datos cargadas con el método `head()`. \n",
        "* Obtenemos una descripción cuantitativa con el método `describe()`.\n",
        "* Visualizamos tipos de variables y datos faltantes con el método `info()`.\n",
        "* Obtenemos columnas de la base de datos con el método `columns`.\n",
        "\n",
        "Caguemos la base de datos `BTC-USD.csv`, que nos indica el valor del Bitcoin en dólares desde 2014 a la fecha. La puede encontrar disponible en el siguiente [link](https://github.com/estebanrucan/taller-python/raw/master/data/BTC-USD.csv)."
      ]
    },
    {
      "cell_type": "code",
      "execution_count": 77,
      "metadata": {
        "colab": {
          "base_uri": "https://localhost:8080/",
          "height": 423
        },
        "id": "6NGW4eHU-nQZ",
        "outputId": "6195ca87-d03e-4584-ab59-032d82b7d310"
      },
      "outputs": [
        {
          "data": {
            "text/html": [
              "<div>\n",
              "<style scoped>\n",
              "    .dataframe tbody tr th:only-of-type {\n",
              "        vertical-align: middle;\n",
              "    }\n",
              "\n",
              "    .dataframe tbody tr th {\n",
              "        vertical-align: top;\n",
              "    }\n",
              "\n",
              "    .dataframe thead th {\n",
              "        text-align: right;\n",
              "    }\n",
              "</style>\n",
              "<table border=\"1\" class=\"dataframe\">\n",
              "  <thead>\n",
              "    <tr style=\"text-align: right;\">\n",
              "      <th></th>\n",
              "      <th>Date</th>\n",
              "      <th>Open</th>\n",
              "      <th>High</th>\n",
              "      <th>Low</th>\n",
              "      <th>Close</th>\n",
              "      <th>Adj Close</th>\n",
              "      <th>Volume</th>\n",
              "    </tr>\n",
              "  </thead>\n",
              "  <tbody>\n",
              "    <tr>\n",
              "      <th>0</th>\n",
              "      <td>2014-09-17</td>\n",
              "      <td>465.864014</td>\n",
              "      <td>468.174011</td>\n",
              "      <td>452.421997</td>\n",
              "      <td>457.334015</td>\n",
              "      <td>457.334015</td>\n",
              "      <td>2.105680e+07</td>\n",
              "    </tr>\n",
              "    <tr>\n",
              "      <th>1</th>\n",
              "      <td>2014-09-18</td>\n",
              "      <td>456.859985</td>\n",
              "      <td>456.859985</td>\n",
              "      <td>413.104004</td>\n",
              "      <td>424.440002</td>\n",
              "      <td>424.440002</td>\n",
              "      <td>3.448320e+07</td>\n",
              "    </tr>\n",
              "    <tr>\n",
              "      <th>2</th>\n",
              "      <td>2014-09-19</td>\n",
              "      <td>424.102997</td>\n",
              "      <td>427.834991</td>\n",
              "      <td>384.532013</td>\n",
              "      <td>394.795990</td>\n",
              "      <td>394.795990</td>\n",
              "      <td>3.791970e+07</td>\n",
              "    </tr>\n",
              "    <tr>\n",
              "      <th>3</th>\n",
              "      <td>2014-09-20</td>\n",
              "      <td>394.673004</td>\n",
              "      <td>423.295990</td>\n",
              "      <td>389.882996</td>\n",
              "      <td>408.903992</td>\n",
              "      <td>408.903992</td>\n",
              "      <td>3.686360e+07</td>\n",
              "    </tr>\n",
              "    <tr>\n",
              "      <th>4</th>\n",
              "      <td>2014-09-21</td>\n",
              "      <td>408.084991</td>\n",
              "      <td>412.425995</td>\n",
              "      <td>393.181000</td>\n",
              "      <td>398.821014</td>\n",
              "      <td>398.821014</td>\n",
              "      <td>2.658010e+07</td>\n",
              "    </tr>\n",
              "    <tr>\n",
              "      <th>...</th>\n",
              "      <td>...</td>\n",
              "      <td>...</td>\n",
              "      <td>...</td>\n",
              "      <td>...</td>\n",
              "      <td>...</td>\n",
              "      <td>...</td>\n",
              "      <td>...</td>\n",
              "    </tr>\n",
              "    <tr>\n",
              "      <th>2607</th>\n",
              "      <td>2021-11-06</td>\n",
              "      <td>61068.875000</td>\n",
              "      <td>61590.683594</td>\n",
              "      <td>60163.781250</td>\n",
              "      <td>61527.480469</td>\n",
              "      <td>61527.480469</td>\n",
              "      <td>2.909493e+10</td>\n",
              "    </tr>\n",
              "    <tr>\n",
              "      <th>2608</th>\n",
              "      <td>2021-11-07</td>\n",
              "      <td>61554.921875</td>\n",
              "      <td>63326.988281</td>\n",
              "      <td>61432.488281</td>\n",
              "      <td>63326.988281</td>\n",
              "      <td>63326.988281</td>\n",
              "      <td>2.472675e+10</td>\n",
              "    </tr>\n",
              "    <tr>\n",
              "      <th>2609</th>\n",
              "      <td>2021-11-08</td>\n",
              "      <td>63344.066406</td>\n",
              "      <td>67673.742188</td>\n",
              "      <td>63344.066406</td>\n",
              "      <td>67566.828125</td>\n",
              "      <td>67566.828125</td>\n",
              "      <td>4.112561e+10</td>\n",
              "    </tr>\n",
              "    <tr>\n",
              "      <th>2610</th>\n",
              "      <td>2021-11-09</td>\n",
              "      <td>67549.734375</td>\n",
              "      <td>68530.335938</td>\n",
              "      <td>66382.062500</td>\n",
              "      <td>66971.828125</td>\n",
              "      <td>66971.828125</td>\n",
              "      <td>4.235799e+10</td>\n",
              "    </tr>\n",
              "    <tr>\n",
              "      <th>2611</th>\n",
              "      <td>2021-11-10</td>\n",
              "      <td>67089.476563</td>\n",
              "      <td>68744.031250</td>\n",
              "      <td>66377.671875</td>\n",
              "      <td>67674.796875</td>\n",
              "      <td>67674.796875</td>\n",
              "      <td>3.939938e+10</td>\n",
              "    </tr>\n",
              "  </tbody>\n",
              "</table>\n",
              "<p>2612 rows × 7 columns</p>\n",
              "</div>"
            ],
            "text/plain": [
              "            Date          Open  ...     Adj Close        Volume\n",
              "0     2014-09-17    465.864014  ...    457.334015  2.105680e+07\n",
              "1     2014-09-18    456.859985  ...    424.440002  3.448320e+07\n",
              "2     2014-09-19    424.102997  ...    394.795990  3.791970e+07\n",
              "3     2014-09-20    394.673004  ...    408.903992  3.686360e+07\n",
              "4     2014-09-21    408.084991  ...    398.821014  2.658010e+07\n",
              "...          ...           ...  ...           ...           ...\n",
              "2607  2021-11-06  61068.875000  ...  61527.480469  2.909493e+10\n",
              "2608  2021-11-07  61554.921875  ...  63326.988281  2.472675e+10\n",
              "2609  2021-11-08  63344.066406  ...  67566.828125  4.112561e+10\n",
              "2610  2021-11-09  67549.734375  ...  66971.828125  4.235799e+10\n",
              "2611  2021-11-10  67089.476563  ...  67674.796875  3.939938e+10\n",
              "\n",
              "[2612 rows x 7 columns]"
            ]
          },
          "execution_count": 77,
          "metadata": {},
          "output_type": "execute_result"
        }
      ],
      "source": [
        "# Ejemplo carga de bases de datos: Cargar BTC-USD.csv, mostrar cinco primeras entradas, descripción cuantitativa e información sobre datos faltantes.\n",
        "\n",
        "bitcoin = pd.read_csv(\"https://github.com/estebanrucan/taller-python/raw/master/data/BTC-USD.csv\", date_parser=[\"Date\"])\n",
        "bitcoin\n"
      ]
    },
    {
      "cell_type": "code",
      "execution_count": 76,
      "metadata": {
        "colab": {
          "base_uri": "https://localhost:8080/"
        },
        "id": "QalLWe1AWXbb",
        "outputId": "e7758501-bb78-41c0-b092-5284d87e8247"
      },
      "outputs": [
        {
          "data": {
            "text/plain": [
              "Date          object\n",
              "Open         float64\n",
              "High         float64\n",
              "Low          float64\n",
              "Close        float64\n",
              "Adj Close    float64\n",
              "Volume       float64\n",
              "dtype: object"
            ]
          },
          "execution_count": 76,
          "metadata": {},
          "output_type": "execute_result"
        }
      ],
      "source": [
        "bitcoin.dtypes"
      ]
    },
    {
      "cell_type": "markdown",
      "metadata": {
        "id": "dCZkKQr4-nQa"
      },
      "source": [
        "### Seleccionar columnas\n",
        "\n",
        "* Además de incorporar métodos a los objetos `DataFrame`, también podemos utilizar subsettings. A continuación tres formas de hacerlo.\n",
        "* __Incorporar subsetting directamente__: `datos[listado_de_columnas]`.\n",
        "* __Seleccionar columnas de acuerdo a su localización__: `datos.loc[:, listado_de_columnas]`.\n",
        "* __Seleccionar columnas de acuerdo a su índice__: `datos.iloc[:, lista_con_indices_de_columnas]`.\n",
        "* Si seleccionamos solo una variable, obtendremos un objeto del tipo `Series`."
      ]
    },
    {
      "cell_type": "code",
      "execution_count": 71,
      "metadata": {
        "colab": {
          "base_uri": "https://localhost:8080/",
          "height": 423
        },
        "id": "PJ8omzRk-nQa",
        "outputId": "7299b5e2-d887-42a6-a351-db3d9f3b2bad"
      },
      "outputs": [
        {
          "data": {
            "text/html": [
              "<div>\n",
              "<style scoped>\n",
              "    .dataframe tbody tr th:only-of-type {\n",
              "        vertical-align: middle;\n",
              "    }\n",
              "\n",
              "    .dataframe tbody tr th {\n",
              "        vertical-align: top;\n",
              "    }\n",
              "\n",
              "    .dataframe thead th {\n",
              "        text-align: right;\n",
              "    }\n",
              "</style>\n",
              "<table border=\"1\" class=\"dataframe\">\n",
              "  <thead>\n",
              "    <tr style=\"text-align: right;\">\n",
              "      <th></th>\n",
              "      <th>Date</th>\n",
              "      <th>Open</th>\n",
              "    </tr>\n",
              "  </thead>\n",
              "  <tbody>\n",
              "    <tr>\n",
              "      <th>0</th>\n",
              "      <td>2014-09-17</td>\n",
              "      <td>465.864014</td>\n",
              "    </tr>\n",
              "    <tr>\n",
              "      <th>1</th>\n",
              "      <td>2014-09-18</td>\n",
              "      <td>456.859985</td>\n",
              "    </tr>\n",
              "    <tr>\n",
              "      <th>2</th>\n",
              "      <td>2014-09-19</td>\n",
              "      <td>424.102997</td>\n",
              "    </tr>\n",
              "    <tr>\n",
              "      <th>3</th>\n",
              "      <td>2014-09-20</td>\n",
              "      <td>394.673004</td>\n",
              "    </tr>\n",
              "    <tr>\n",
              "      <th>4</th>\n",
              "      <td>2014-09-21</td>\n",
              "      <td>408.084991</td>\n",
              "    </tr>\n",
              "    <tr>\n",
              "      <th>...</th>\n",
              "      <td>...</td>\n",
              "      <td>...</td>\n",
              "    </tr>\n",
              "    <tr>\n",
              "      <th>2607</th>\n",
              "      <td>2021-11-06</td>\n",
              "      <td>61068.875000</td>\n",
              "    </tr>\n",
              "    <tr>\n",
              "      <th>2608</th>\n",
              "      <td>2021-11-07</td>\n",
              "      <td>61554.921875</td>\n",
              "    </tr>\n",
              "    <tr>\n",
              "      <th>2609</th>\n",
              "      <td>2021-11-08</td>\n",
              "      <td>63344.066406</td>\n",
              "    </tr>\n",
              "    <tr>\n",
              "      <th>2610</th>\n",
              "      <td>2021-11-09</td>\n",
              "      <td>67549.734375</td>\n",
              "    </tr>\n",
              "    <tr>\n",
              "      <th>2611</th>\n",
              "      <td>2021-11-10</td>\n",
              "      <td>67089.476563</td>\n",
              "    </tr>\n",
              "  </tbody>\n",
              "</table>\n",
              "<p>2612 rows × 2 columns</p>\n",
              "</div>"
            ],
            "text/plain": [
              "            Date          Open\n",
              "0     2014-09-17    465.864014\n",
              "1     2014-09-18    456.859985\n",
              "2     2014-09-19    424.102997\n",
              "3     2014-09-20    394.673004\n",
              "4     2014-09-21    408.084991\n",
              "...          ...           ...\n",
              "2607  2021-11-06  61068.875000\n",
              "2608  2021-11-07  61554.921875\n",
              "2609  2021-11-08  63344.066406\n",
              "2610  2021-11-09  67549.734375\n",
              "2611  2021-11-10  67089.476563\n",
              "\n",
              "[2612 rows x 2 columns]"
            ]
          },
          "execution_count": 71,
          "metadata": {},
          "output_type": "execute_result"
        }
      ],
      "source": [
        "# Ejemplo de seleccionar columnas: seleccionar variables \"Date\" y \"Open\" de la base de datos de Bitcoin.\n",
        "lista_con_variables = [\"Date\", \"Open\"]\n",
        "bitcoin[lista_con_variables]"
      ]
    },
    {
      "cell_type": "code",
      "execution_count": 72,
      "metadata": {
        "colab": {
          "base_uri": "https://localhost:8080/"
        },
        "id": "zI2B0vfjVbyi",
        "outputId": "25c589ba-de87-482b-b938-458594b51bef"
      },
      "outputs": [
        {
          "data": {
            "text/plain": [
              "Index(['Date', 'Open', 'High', 'Low', 'Close', 'Adj Close', 'Volume'], dtype='object')"
            ]
          },
          "execution_count": 72,
          "metadata": {},
          "output_type": "execute_result"
        }
      ],
      "source": [
        "# ver nombres de columnas\n",
        "bitcoin.columns "
      ]
    },
    {
      "cell_type": "code",
      "execution_count": 73,
      "metadata": {
        "colab": {
          "base_uri": "https://localhost:8080/",
          "height": 300
        },
        "id": "Yr3eVKBWVk9z",
        "outputId": "b6f64cb8-db6b-4549-8778-472765c13d07"
      },
      "outputs": [
        {
          "data": {
            "text/html": [
              "<div>\n",
              "<style scoped>\n",
              "    .dataframe tbody tr th:only-of-type {\n",
              "        vertical-align: middle;\n",
              "    }\n",
              "\n",
              "    .dataframe tbody tr th {\n",
              "        vertical-align: top;\n",
              "    }\n",
              "\n",
              "    .dataframe thead th {\n",
              "        text-align: right;\n",
              "    }\n",
              "</style>\n",
              "<table border=\"1\" class=\"dataframe\">\n",
              "  <thead>\n",
              "    <tr style=\"text-align: right;\">\n",
              "      <th></th>\n",
              "      <th>Open</th>\n",
              "      <th>High</th>\n",
              "      <th>Low</th>\n",
              "      <th>Close</th>\n",
              "      <th>Adj Close</th>\n",
              "      <th>Volume</th>\n",
              "    </tr>\n",
              "  </thead>\n",
              "  <tbody>\n",
              "    <tr>\n",
              "      <th>count</th>\n",
              "      <td>2608.000000</td>\n",
              "      <td>2608.000000</td>\n",
              "      <td>2608.000000</td>\n",
              "      <td>2608.000000</td>\n",
              "      <td>2608.000000</td>\n",
              "      <td>2.608000e+03</td>\n",
              "    </tr>\n",
              "    <tr>\n",
              "      <th>mean</th>\n",
              "      <td>9907.023267</td>\n",
              "      <td>10186.683133</td>\n",
              "      <td>9611.378987</td>\n",
              "      <td>9932.004166</td>\n",
              "      <td>9932.004166</td>\n",
              "      <td>1.394128e+10</td>\n",
              "    </tr>\n",
              "    <tr>\n",
              "      <th>std</th>\n",
              "      <td>14647.737407</td>\n",
              "      <td>15078.500230</td>\n",
              "      <td>14187.951665</td>\n",
              "      <td>14689.322621</td>\n",
              "      <td>14689.322621</td>\n",
              "      <td>1.991977e+10</td>\n",
              "    </tr>\n",
              "    <tr>\n",
              "      <th>min</th>\n",
              "      <td>176.897003</td>\n",
              "      <td>211.731003</td>\n",
              "      <td>171.509995</td>\n",
              "      <td>178.102997</td>\n",
              "      <td>178.102997</td>\n",
              "      <td>5.914570e+06</td>\n",
              "    </tr>\n",
              "    <tr>\n",
              "      <th>25%</th>\n",
              "      <td>581.028229</td>\n",
              "      <td>587.914490</td>\n",
              "      <td>574.496994</td>\n",
              "      <td>581.560761</td>\n",
              "      <td>581.560761</td>\n",
              "      <td>7.450325e+07</td>\n",
              "    </tr>\n",
              "    <tr>\n",
              "      <th>50%</th>\n",
              "      <td>5697.839843</td>\n",
              "      <td>5837.907471</td>\n",
              "      <td>5511.594971</td>\n",
              "      <td>5717.054932</td>\n",
              "      <td>5717.054932</td>\n",
              "      <td>4.663550e+09</td>\n",
              "    </tr>\n",
              "    <tr>\n",
              "      <th>75%</th>\n",
              "      <td>9812.679932</td>\n",
              "      <td>10059.036133</td>\n",
              "      <td>9598.755371</td>\n",
              "      <td>9824.428711</td>\n",
              "      <td>9824.428711</td>\n",
              "      <td>2.273133e+10</td>\n",
              "    </tr>\n",
              "    <tr>\n",
              "      <th>max</th>\n",
              "      <td>67549.734375</td>\n",
              "      <td>68744.031250</td>\n",
              "      <td>66382.062500</td>\n",
              "      <td>67674.796875</td>\n",
              "      <td>67674.796875</td>\n",
              "      <td>3.509679e+11</td>\n",
              "    </tr>\n",
              "  </tbody>\n",
              "</table>\n",
              "</div>"
            ],
            "text/plain": [
              "               Open          High  ...     Adj Close        Volume\n",
              "count   2608.000000   2608.000000  ...   2608.000000  2.608000e+03\n",
              "mean    9907.023267  10186.683133  ...   9932.004166  1.394128e+10\n",
              "std    14647.737407  15078.500230  ...  14689.322621  1.991977e+10\n",
              "min      176.897003    211.731003  ...    178.102997  5.914570e+06\n",
              "25%      581.028229    587.914490  ...    581.560761  7.450325e+07\n",
              "50%     5697.839843   5837.907471  ...   5717.054932  4.663550e+09\n",
              "75%     9812.679932  10059.036133  ...   9824.428711  2.273133e+10\n",
              "max    67549.734375  68744.031250  ...  67674.796875  3.509679e+11\n",
              "\n",
              "[8 rows x 6 columns]"
            ]
          },
          "execution_count": 73,
          "metadata": {},
          "output_type": "execute_result"
        }
      ],
      "source": [
        "# ver resúmenes numéricos\n",
        "bitcoin.describe()"
      ]
    },
    {
      "cell_type": "code",
      "execution_count": 74,
      "metadata": {
        "colab": {
          "base_uri": "https://localhost:8080/"
        },
        "id": "FufWRTAiV0ur",
        "outputId": "2c2f6f54-b139-49f4-b0bd-153ff245f752"
      },
      "outputs": [
        {
          "name": "stdout",
          "output_type": "stream",
          "text": [
            "<class 'pandas.core.frame.DataFrame'>\n",
            "RangeIndex: 2612 entries, 0 to 2611\n",
            "Data columns (total 7 columns):\n",
            " #   Column     Non-Null Count  Dtype  \n",
            "---  ------     --------------  -----  \n",
            " 0   Date       2612 non-null   object \n",
            " 1   Open       2608 non-null   float64\n",
            " 2   High       2608 non-null   float64\n",
            " 3   Low        2608 non-null   float64\n",
            " 4   Close      2608 non-null   float64\n",
            " 5   Adj Close  2608 non-null   float64\n",
            " 6   Volume     2608 non-null   float64\n",
            "dtypes: float64(6), object(1)\n",
            "memory usage: 143.0+ KB\n"
          ]
        }
      ],
      "source": [
        "# tipos de variables y datos faltantes\n",
        "bitcoin.info()"
      ]
    },
    {
      "cell_type": "markdown",
      "metadata": {
        "id": "VaGiOsi0-nQa"
      },
      "source": [
        "### Crear columnas\n",
        "* Se realiza un subsetting indicando el nombre que tendrá la nueva variable, acompañada de un signo `=` y la información que contendrá esta."
      ]
    },
    {
      "cell_type": "code",
      "execution_count": 78,
      "metadata": {
        "colab": {
          "base_uri": "https://localhost:8080/",
          "height": 423
        },
        "id": "hBzlNMLk-nQa",
        "outputId": "11f882e4-1690-4619-fbdd-ab097554018d"
      },
      "outputs": [
        {
          "data": {
            "text/html": [
              "<div>\n",
              "<style scoped>\n",
              "    .dataframe tbody tr th:only-of-type {\n",
              "        vertical-align: middle;\n",
              "    }\n",
              "\n",
              "    .dataframe tbody tr th {\n",
              "        vertical-align: top;\n",
              "    }\n",
              "\n",
              "    .dataframe thead th {\n",
              "        text-align: right;\n",
              "    }\n",
              "</style>\n",
              "<table border=\"1\" class=\"dataframe\">\n",
              "  <thead>\n",
              "    <tr style=\"text-align: right;\">\n",
              "      <th></th>\n",
              "      <th>Date</th>\n",
              "      <th>Open</th>\n",
              "      <th>High</th>\n",
              "      <th>Low</th>\n",
              "      <th>Close</th>\n",
              "      <th>Adj Close</th>\n",
              "      <th>Volume</th>\n",
              "      <th>variacion</th>\n",
              "    </tr>\n",
              "  </thead>\n",
              "  <tbody>\n",
              "    <tr>\n",
              "      <th>0</th>\n",
              "      <td>2014-09-17</td>\n",
              "      <td>465.864014</td>\n",
              "      <td>468.174011</td>\n",
              "      <td>452.421997</td>\n",
              "      <td>457.334015</td>\n",
              "      <td>457.334015</td>\n",
              "      <td>2.105680e+07</td>\n",
              "      <td>15.752014</td>\n",
              "    </tr>\n",
              "    <tr>\n",
              "      <th>1</th>\n",
              "      <td>2014-09-18</td>\n",
              "      <td>456.859985</td>\n",
              "      <td>456.859985</td>\n",
              "      <td>413.104004</td>\n",
              "      <td>424.440002</td>\n",
              "      <td>424.440002</td>\n",
              "      <td>3.448320e+07</td>\n",
              "      <td>43.755981</td>\n",
              "    </tr>\n",
              "    <tr>\n",
              "      <th>2</th>\n",
              "      <td>2014-09-19</td>\n",
              "      <td>424.102997</td>\n",
              "      <td>427.834991</td>\n",
              "      <td>384.532013</td>\n",
              "      <td>394.795990</td>\n",
              "      <td>394.795990</td>\n",
              "      <td>3.791970e+07</td>\n",
              "      <td>43.302978</td>\n",
              "    </tr>\n",
              "    <tr>\n",
              "      <th>3</th>\n",
              "      <td>2014-09-20</td>\n",
              "      <td>394.673004</td>\n",
              "      <td>423.295990</td>\n",
              "      <td>389.882996</td>\n",
              "      <td>408.903992</td>\n",
              "      <td>408.903992</td>\n",
              "      <td>3.686360e+07</td>\n",
              "      <td>33.412994</td>\n",
              "    </tr>\n",
              "    <tr>\n",
              "      <th>4</th>\n",
              "      <td>2014-09-21</td>\n",
              "      <td>408.084991</td>\n",
              "      <td>412.425995</td>\n",
              "      <td>393.181000</td>\n",
              "      <td>398.821014</td>\n",
              "      <td>398.821014</td>\n",
              "      <td>2.658010e+07</td>\n",
              "      <td>19.244995</td>\n",
              "    </tr>\n",
              "    <tr>\n",
              "      <th>...</th>\n",
              "      <td>...</td>\n",
              "      <td>...</td>\n",
              "      <td>...</td>\n",
              "      <td>...</td>\n",
              "      <td>...</td>\n",
              "      <td>...</td>\n",
              "      <td>...</td>\n",
              "      <td>...</td>\n",
              "    </tr>\n",
              "    <tr>\n",
              "      <th>2607</th>\n",
              "      <td>2021-11-06</td>\n",
              "      <td>61068.875000</td>\n",
              "      <td>61590.683594</td>\n",
              "      <td>60163.781250</td>\n",
              "      <td>61527.480469</td>\n",
              "      <td>61527.480469</td>\n",
              "      <td>2.909493e+10</td>\n",
              "      <td>1426.902344</td>\n",
              "    </tr>\n",
              "    <tr>\n",
              "      <th>2608</th>\n",
              "      <td>2021-11-07</td>\n",
              "      <td>61554.921875</td>\n",
              "      <td>63326.988281</td>\n",
              "      <td>61432.488281</td>\n",
              "      <td>63326.988281</td>\n",
              "      <td>63326.988281</td>\n",
              "      <td>2.472675e+10</td>\n",
              "      <td>1894.500000</td>\n",
              "    </tr>\n",
              "    <tr>\n",
              "      <th>2609</th>\n",
              "      <td>2021-11-08</td>\n",
              "      <td>63344.066406</td>\n",
              "      <td>67673.742188</td>\n",
              "      <td>63344.066406</td>\n",
              "      <td>67566.828125</td>\n",
              "      <td>67566.828125</td>\n",
              "      <td>4.112561e+10</td>\n",
              "      <td>4329.675782</td>\n",
              "    </tr>\n",
              "    <tr>\n",
              "      <th>2610</th>\n",
              "      <td>2021-11-09</td>\n",
              "      <td>67549.734375</td>\n",
              "      <td>68530.335938</td>\n",
              "      <td>66382.062500</td>\n",
              "      <td>66971.828125</td>\n",
              "      <td>66971.828125</td>\n",
              "      <td>4.235799e+10</td>\n",
              "      <td>2148.273438</td>\n",
              "    </tr>\n",
              "    <tr>\n",
              "      <th>2611</th>\n",
              "      <td>2021-11-10</td>\n",
              "      <td>67089.476563</td>\n",
              "      <td>68744.031250</td>\n",
              "      <td>66377.671875</td>\n",
              "      <td>67674.796875</td>\n",
              "      <td>67674.796875</td>\n",
              "      <td>3.939938e+10</td>\n",
              "      <td>2366.359375</td>\n",
              "    </tr>\n",
              "  </tbody>\n",
              "</table>\n",
              "<p>2612 rows × 8 columns</p>\n",
              "</div>"
            ],
            "text/plain": [
              "            Date          Open  ...        Volume    variacion\n",
              "0     2014-09-17    465.864014  ...  2.105680e+07    15.752014\n",
              "1     2014-09-18    456.859985  ...  3.448320e+07    43.755981\n",
              "2     2014-09-19    424.102997  ...  3.791970e+07    43.302978\n",
              "3     2014-09-20    394.673004  ...  3.686360e+07    33.412994\n",
              "4     2014-09-21    408.084991  ...  2.658010e+07    19.244995\n",
              "...          ...           ...  ...           ...          ...\n",
              "2607  2021-11-06  61068.875000  ...  2.909493e+10  1426.902344\n",
              "2608  2021-11-07  61554.921875  ...  2.472675e+10  1894.500000\n",
              "2609  2021-11-08  63344.066406  ...  4.112561e+10  4329.675782\n",
              "2610  2021-11-09  67549.734375  ...  4.235799e+10  2148.273438\n",
              "2611  2021-11-10  67089.476563  ...  3.939938e+10  2366.359375\n",
              "\n",
              "[2612 rows x 8 columns]"
            ]
          },
          "execution_count": 78,
          "metadata": {},
          "output_type": "execute_result"
        }
      ],
      "source": [
        "# Ejemplo de crear variables: Calcular rango de variación diario del Bitcoin en dólares.\n",
        "bitcoin[\"variacion\"] = bitcoin[\"High\"] - bitcoin[\"Low\"]\n",
        "bitcoin"
      ]
    },
    {
      "cell_type": "code",
      "execution_count": 80,
      "metadata": {
        "colab": {
          "base_uri": "https://localhost:8080/"
        },
        "id": "8_MHsA5wW9YU",
        "outputId": "c773d5f2-d6c0-4151-c550-219b07410b6a"
      },
      "outputs": [
        {
          "name": "stdout",
          "output_type": "stream",
          "text": [
            "<class 'pandas.core.frame.DataFrame'>\n",
            "RangeIndex: 2612 entries, 0 to 2611\n",
            "Data columns (total 8 columns):\n",
            " #   Column     Non-Null Count  Dtype         \n",
            "---  ------     --------------  -----         \n",
            " 0   Date       2612 non-null   datetime64[ns]\n",
            " 1   Open       2608 non-null   float64       \n",
            " 2   High       2608 non-null   float64       \n",
            " 3   Low        2608 non-null   float64       \n",
            " 4   Close      2608 non-null   float64       \n",
            " 5   Adj Close  2608 non-null   float64       \n",
            " 6   Volume     2608 non-null   float64       \n",
            " 7   variacion  2608 non-null   float64       \n",
            "dtypes: datetime64[ns](1), float64(7)\n",
            "memory usage: 163.4 KB\n"
          ]
        }
      ],
      "source": [
        "bitcoin[\"Date\"] = pd.to_datetime(bitcoin[\"Date\"], format = \"%Y-%b-%d\")\n",
        "bitcoin.info()"
      ]
    },
    {
      "cell_type": "code",
      "execution_count": 81,
      "metadata": {
        "id": "kR3hCKr2XQXE"
      },
      "outputs": [],
      "source": [
        "bitcoin.to_csv(\"bitcoin_modificado.csv\")"
      ]
    },
    {
      "cell_type": "markdown",
      "metadata": {
        "id": "vNdroW73-nQa"
      },
      "source": [
        "### Filtrar datos bajo una condición.\n",
        "* Se emplea de forma similar a seleccionar variables: `datos[condicion]`.\n",
        "* Para consultas sencillas podemos usar el método `query(\"condicion\")`."
      ]
    },
    {
      "cell_type": "code",
      "execution_count": 83,
      "metadata": {
        "colab": {
          "base_uri": "https://localhost:8080/"
        },
        "id": "VVosVQsp-nQa",
        "outputId": "9a962ef6-cc90-4f35-9779-78b796e455b2"
      },
      "outputs": [
        {
          "data": {
            "text/plain": [
              "0       False\n",
              "1       False\n",
              "2       False\n",
              "3       False\n",
              "4       False\n",
              "        ...  \n",
              "2607     True\n",
              "2608     True\n",
              "2609     True\n",
              "2610     True\n",
              "2611     True\n",
              "Name: Date, Length: 2612, dtype: bool"
            ]
          },
          "execution_count": 83,
          "metadata": {},
          "output_type": "execute_result"
        }
      ],
      "source": [
        "# Ejemplo de filtro: seleccione los datos que corresponden solo al año 2021\n",
        "\n",
        "condicion = bitcoin[\"Date\"].dt.month == 2021\n",
        "condicion"
      ]
    },
    {
      "cell_type": "code",
      "execution_count": 84,
      "metadata": {
        "colab": {
          "base_uri": "https://localhost:8080/",
          "height": 423
        },
        "id": "sRFxMLPyYPjr",
        "outputId": "6480d436-2e81-4e09-b9b6-47e1c1c52565"
      },
      "outputs": [
        {
          "data": {
            "text/html": [
              "<div>\n",
              "<style scoped>\n",
              "    .dataframe tbody tr th:only-of-type {\n",
              "        vertical-align: middle;\n",
              "    }\n",
              "\n",
              "    .dataframe tbody tr th {\n",
              "        vertical-align: top;\n",
              "    }\n",
              "\n",
              "    .dataframe thead th {\n",
              "        text-align: right;\n",
              "    }\n",
              "</style>\n",
              "<table border=\"1\" class=\"dataframe\">\n",
              "  <thead>\n",
              "    <tr style=\"text-align: right;\">\n",
              "      <th></th>\n",
              "      <th>Date</th>\n",
              "      <th>Open</th>\n",
              "      <th>High</th>\n",
              "      <th>Low</th>\n",
              "      <th>Close</th>\n",
              "      <th>Adj Close</th>\n",
              "      <th>Volume</th>\n",
              "      <th>variacion</th>\n",
              "    </tr>\n",
              "  </thead>\n",
              "  <tbody>\n",
              "    <tr>\n",
              "      <th>2298</th>\n",
              "      <td>2021-01-01</td>\n",
              "      <td>28994.009766</td>\n",
              "      <td>29600.626953</td>\n",
              "      <td>28803.585938</td>\n",
              "      <td>29374.152344</td>\n",
              "      <td>29374.152344</td>\n",
              "      <td>4.073030e+10</td>\n",
              "      <td>797.041015</td>\n",
              "    </tr>\n",
              "    <tr>\n",
              "      <th>2299</th>\n",
              "      <td>2021-01-02</td>\n",
              "      <td>29376.455078</td>\n",
              "      <td>33155.117188</td>\n",
              "      <td>29091.181641</td>\n",
              "      <td>32127.267578</td>\n",
              "      <td>32127.267578</td>\n",
              "      <td>6.786542e+10</td>\n",
              "      <td>4063.935547</td>\n",
              "    </tr>\n",
              "    <tr>\n",
              "      <th>2300</th>\n",
              "      <td>2021-01-03</td>\n",
              "      <td>32129.408203</td>\n",
              "      <td>34608.558594</td>\n",
              "      <td>32052.316406</td>\n",
              "      <td>32782.023438</td>\n",
              "      <td>32782.023438</td>\n",
              "      <td>7.866524e+10</td>\n",
              "      <td>2556.242188</td>\n",
              "    </tr>\n",
              "    <tr>\n",
              "      <th>2301</th>\n",
              "      <td>2021-01-04</td>\n",
              "      <td>32810.949219</td>\n",
              "      <td>33440.218750</td>\n",
              "      <td>28722.755859</td>\n",
              "      <td>31971.914063</td>\n",
              "      <td>31971.914063</td>\n",
              "      <td>8.116348e+10</td>\n",
              "      <td>4717.462891</td>\n",
              "    </tr>\n",
              "    <tr>\n",
              "      <th>2302</th>\n",
              "      <td>2021-01-05</td>\n",
              "      <td>31977.041016</td>\n",
              "      <td>34437.589844</td>\n",
              "      <td>30221.187500</td>\n",
              "      <td>33992.429688</td>\n",
              "      <td>33992.429688</td>\n",
              "      <td>6.754732e+10</td>\n",
              "      <td>4216.402344</td>\n",
              "    </tr>\n",
              "    <tr>\n",
              "      <th>...</th>\n",
              "      <td>...</td>\n",
              "      <td>...</td>\n",
              "      <td>...</td>\n",
              "      <td>...</td>\n",
              "      <td>...</td>\n",
              "      <td>...</td>\n",
              "      <td>...</td>\n",
              "      <td>...</td>\n",
              "    </tr>\n",
              "    <tr>\n",
              "      <th>2607</th>\n",
              "      <td>2021-11-06</td>\n",
              "      <td>61068.875000</td>\n",
              "      <td>61590.683594</td>\n",
              "      <td>60163.781250</td>\n",
              "      <td>61527.480469</td>\n",
              "      <td>61527.480469</td>\n",
              "      <td>2.909493e+10</td>\n",
              "      <td>1426.902344</td>\n",
              "    </tr>\n",
              "    <tr>\n",
              "      <th>2608</th>\n",
              "      <td>2021-11-07</td>\n",
              "      <td>61554.921875</td>\n",
              "      <td>63326.988281</td>\n",
              "      <td>61432.488281</td>\n",
              "      <td>63326.988281</td>\n",
              "      <td>63326.988281</td>\n",
              "      <td>2.472675e+10</td>\n",
              "      <td>1894.500000</td>\n",
              "    </tr>\n",
              "    <tr>\n",
              "      <th>2609</th>\n",
              "      <td>2021-11-08</td>\n",
              "      <td>63344.066406</td>\n",
              "      <td>67673.742188</td>\n",
              "      <td>63344.066406</td>\n",
              "      <td>67566.828125</td>\n",
              "      <td>67566.828125</td>\n",
              "      <td>4.112561e+10</td>\n",
              "      <td>4329.675782</td>\n",
              "    </tr>\n",
              "    <tr>\n",
              "      <th>2610</th>\n",
              "      <td>2021-11-09</td>\n",
              "      <td>67549.734375</td>\n",
              "      <td>68530.335938</td>\n",
              "      <td>66382.062500</td>\n",
              "      <td>66971.828125</td>\n",
              "      <td>66971.828125</td>\n",
              "      <td>4.235799e+10</td>\n",
              "      <td>2148.273438</td>\n",
              "    </tr>\n",
              "    <tr>\n",
              "      <th>2611</th>\n",
              "      <td>2021-11-10</td>\n",
              "      <td>67089.476563</td>\n",
              "      <td>68744.031250</td>\n",
              "      <td>66377.671875</td>\n",
              "      <td>67674.796875</td>\n",
              "      <td>67674.796875</td>\n",
              "      <td>3.939938e+10</td>\n",
              "      <td>2366.359375</td>\n",
              "    </tr>\n",
              "  </tbody>\n",
              "</table>\n",
              "<p>314 rows × 8 columns</p>\n",
              "</div>"
            ],
            "text/plain": [
              "           Date          Open  ...        Volume    variacion\n",
              "2298 2021-01-01  28994.009766  ...  4.073030e+10   797.041015\n",
              "2299 2021-01-02  29376.455078  ...  6.786542e+10  4063.935547\n",
              "2300 2021-01-03  32129.408203  ...  7.866524e+10  2556.242188\n",
              "2301 2021-01-04  32810.949219  ...  8.116348e+10  4717.462891\n",
              "2302 2021-01-05  31977.041016  ...  6.754732e+10  4216.402344\n",
              "...         ...           ...  ...           ...          ...\n",
              "2607 2021-11-06  61068.875000  ...  2.909493e+10  1426.902344\n",
              "2608 2021-11-07  61554.921875  ...  2.472675e+10  1894.500000\n",
              "2609 2021-11-08  63344.066406  ...  4.112561e+10  4329.675782\n",
              "2610 2021-11-09  67549.734375  ...  4.235799e+10  2148.273438\n",
              "2611 2021-11-10  67089.476563  ...  3.939938e+10  2366.359375\n",
              "\n",
              "[314 rows x 8 columns]"
            ]
          },
          "execution_count": 84,
          "metadata": {},
          "output_type": "execute_result"
        }
      ],
      "source": [
        "bitcoin[condicion]"
      ]
    },
    {
      "cell_type": "code",
      "execution_count": 85,
      "metadata": {
        "colab": {
          "base_uri": "https://localhost:8080/",
          "height": 423
        },
        "id": "l5Ff358lYYr9",
        "outputId": "cc8c4e36-2295-4043-ca1f-898eb73f64f5"
      },
      "outputs": [
        {
          "data": {
            "text/html": [
              "<div>\n",
              "<style scoped>\n",
              "    .dataframe tbody tr th:only-of-type {\n",
              "        vertical-align: middle;\n",
              "    }\n",
              "\n",
              "    .dataframe tbody tr th {\n",
              "        vertical-align: top;\n",
              "    }\n",
              "\n",
              "    .dataframe thead th {\n",
              "        text-align: right;\n",
              "    }\n",
              "</style>\n",
              "<table border=\"1\" class=\"dataframe\">\n",
              "  <thead>\n",
              "    <tr style=\"text-align: right;\">\n",
              "      <th></th>\n",
              "      <th>Date</th>\n",
              "      <th>Open</th>\n",
              "      <th>High</th>\n",
              "      <th>Low</th>\n",
              "      <th>Close</th>\n",
              "      <th>Adj Close</th>\n",
              "      <th>Volume</th>\n",
              "      <th>variacion</th>\n",
              "    </tr>\n",
              "  </thead>\n",
              "  <tbody>\n",
              "    <tr>\n",
              "      <th>2300</th>\n",
              "      <td>2021-01-03</td>\n",
              "      <td>32129.408203</td>\n",
              "      <td>34608.558594</td>\n",
              "      <td>32052.316406</td>\n",
              "      <td>32782.023438</td>\n",
              "      <td>32782.023438</td>\n",
              "      <td>7.866524e+10</td>\n",
              "      <td>2556.242188</td>\n",
              "    </tr>\n",
              "    <tr>\n",
              "      <th>2302</th>\n",
              "      <td>2021-01-05</td>\n",
              "      <td>31977.041016</td>\n",
              "      <td>34437.589844</td>\n",
              "      <td>30221.187500</td>\n",
              "      <td>33992.429688</td>\n",
              "      <td>33992.429688</td>\n",
              "      <td>6.754732e+10</td>\n",
              "      <td>4216.402344</td>\n",
              "    </tr>\n",
              "    <tr>\n",
              "      <th>2303</th>\n",
              "      <td>2021-01-06</td>\n",
              "      <td>34013.613281</td>\n",
              "      <td>36879.699219</td>\n",
              "      <td>33514.035156</td>\n",
              "      <td>36824.363281</td>\n",
              "      <td>36824.363281</td>\n",
              "      <td>7.528943e+10</td>\n",
              "      <td>3365.664063</td>\n",
              "    </tr>\n",
              "    <tr>\n",
              "      <th>2304</th>\n",
              "      <td>2021-01-07</td>\n",
              "      <td>36833.875000</td>\n",
              "      <td>40180.367188</td>\n",
              "      <td>36491.191406</td>\n",
              "      <td>39371.042969</td>\n",
              "      <td>39371.042969</td>\n",
              "      <td>8.476214e+10</td>\n",
              "      <td>3689.175782</td>\n",
              "    </tr>\n",
              "    <tr>\n",
              "      <th>2305</th>\n",
              "      <td>2021-01-08</td>\n",
              "      <td>39381.765625</td>\n",
              "      <td>41946.738281</td>\n",
              "      <td>36838.636719</td>\n",
              "      <td>40797.609375</td>\n",
              "      <td>40797.609375</td>\n",
              "      <td>8.810752e+10</td>\n",
              "      <td>5108.101562</td>\n",
              "    </tr>\n",
              "    <tr>\n",
              "      <th>...</th>\n",
              "      <td>...</td>\n",
              "      <td>...</td>\n",
              "      <td>...</td>\n",
              "      <td>...</td>\n",
              "      <td>...</td>\n",
              "      <td>...</td>\n",
              "      <td>...</td>\n",
              "      <td>...</td>\n",
              "    </tr>\n",
              "    <tr>\n",
              "      <th>2607</th>\n",
              "      <td>2021-11-06</td>\n",
              "      <td>61068.875000</td>\n",
              "      <td>61590.683594</td>\n",
              "      <td>60163.781250</td>\n",
              "      <td>61527.480469</td>\n",
              "      <td>61527.480469</td>\n",
              "      <td>2.909493e+10</td>\n",
              "      <td>1426.902344</td>\n",
              "    </tr>\n",
              "    <tr>\n",
              "      <th>2608</th>\n",
              "      <td>2021-11-07</td>\n",
              "      <td>61554.921875</td>\n",
              "      <td>63326.988281</td>\n",
              "      <td>61432.488281</td>\n",
              "      <td>63326.988281</td>\n",
              "      <td>63326.988281</td>\n",
              "      <td>2.472675e+10</td>\n",
              "      <td>1894.500000</td>\n",
              "    </tr>\n",
              "    <tr>\n",
              "      <th>2609</th>\n",
              "      <td>2021-11-08</td>\n",
              "      <td>63344.066406</td>\n",
              "      <td>67673.742188</td>\n",
              "      <td>63344.066406</td>\n",
              "      <td>67566.828125</td>\n",
              "      <td>67566.828125</td>\n",
              "      <td>4.112561e+10</td>\n",
              "      <td>4329.675782</td>\n",
              "    </tr>\n",
              "    <tr>\n",
              "      <th>2610</th>\n",
              "      <td>2021-11-09</td>\n",
              "      <td>67549.734375</td>\n",
              "      <td>68530.335938</td>\n",
              "      <td>66382.062500</td>\n",
              "      <td>66971.828125</td>\n",
              "      <td>66971.828125</td>\n",
              "      <td>4.235799e+10</td>\n",
              "      <td>2148.273438</td>\n",
              "    </tr>\n",
              "    <tr>\n",
              "      <th>2611</th>\n",
              "      <td>2021-11-10</td>\n",
              "      <td>67089.476563</td>\n",
              "      <td>68744.031250</td>\n",
              "      <td>66377.671875</td>\n",
              "      <td>67674.796875</td>\n",
              "      <td>67674.796875</td>\n",
              "      <td>3.939938e+10</td>\n",
              "      <td>2366.359375</td>\n",
              "    </tr>\n",
              "  </tbody>\n",
              "</table>\n",
              "<p>306 rows × 8 columns</p>\n",
              "</div>"
            ],
            "text/plain": [
              "           Date          Open  ...        Volume    variacion\n",
              "2300 2021-01-03  32129.408203  ...  7.866524e+10  2556.242188\n",
              "2302 2021-01-05  31977.041016  ...  6.754732e+10  4216.402344\n",
              "2303 2021-01-06  34013.613281  ...  7.528943e+10  3365.664063\n",
              "2304 2021-01-07  36833.875000  ...  8.476214e+10  3689.175782\n",
              "2305 2021-01-08  39381.765625  ...  8.810752e+10  5108.101562\n",
              "...         ...           ...  ...           ...          ...\n",
              "2607 2021-11-06  61068.875000  ...  2.909493e+10  1426.902344\n",
              "2608 2021-11-07  61554.921875  ...  2.472675e+10  1894.500000\n",
              "2609 2021-11-08  63344.066406  ...  4.112561e+10  4329.675782\n",
              "2610 2021-11-09  67549.734375  ...  4.235799e+10  2148.273438\n",
              "2611 2021-11-10  67089.476563  ...  3.939938e+10  2366.359375\n",
              "\n",
              "[306 rows x 8 columns]"
            ]
          },
          "execution_count": 85,
          "metadata": {},
          "output_type": "execute_result"
        }
      ],
      "source": [
        "bitcoin.query(\"Low > 30000\")"
      ]
    },
    {
      "cell_type": "markdown",
      "metadata": {
        "id": "OYImHz_G-nQa"
      },
      "source": [
        "### Métodos importantes para Análisis de Datos\n",
        "* Sobre `Series`: se heredan métodos de NumPy. Por ejemplo: `datos[variable].mean()`\n",
        "* Métodos adicionales de `Series`:\n",
        "  * `value_counts()`: contar veces que se repiten categorías en una variable categórica.\n",
        "  * `sort_values()`: ordenar valores de menor a mayor, se puede incorporar parámetro `ascending=False`. \n",
        "* Métodos para `DataFrame`s:\n",
        "  * `sort_values(lista_variables)`: ordenar base de datos según variable(s) en específico.\n",
        "  * `drop(columns = lista_variables)`: eliminar variables de base de datos.\n",
        "  * `isna().sum()`: utilizado para ver cantidad de datos faltantes por variable.\n",
        "  * `dropna()`: eliminar filas con datos faltantes.\n",
        "  * `drop_duplicates()`: eliminar filas que se encuentren duplicadas.\n",
        "  * `groupby(lista_columnas)`: Agrupar base de datos según variable. Se suele acompañar del método `agg`.\n",
        "  * `agg(lista_resumenes)`: Mostrar estadísticas de resumen para datos agrupados previamente por método `groupby` (opcional).\n",
        "  * Resúmenes para el método `agg`: Pueden ser funciones de `NumPy` o `\"mean\"`, `\"std\"`, `\"median\"`, `\"count\"`, etc."
      ]
    },
    {
      "cell_type": "code",
      "execution_count": 88,
      "metadata": {
        "colab": {
          "base_uri": "https://localhost:8080/",
          "height": 206
        },
        "id": "Qx25OUXLZWmJ",
        "outputId": "8491d5a2-89f5-4591-861b-c5fdcb49e30f"
      },
      "outputs": [
        {
          "data": {
            "text/html": [
              "<div>\n",
              "<style scoped>\n",
              "    .dataframe tbody tr th:only-of-type {\n",
              "        vertical-align: middle;\n",
              "    }\n",
              "\n",
              "    .dataframe tbody tr th {\n",
              "        vertical-align: top;\n",
              "    }\n",
              "\n",
              "    .dataframe thead th {\n",
              "        text-align: right;\n",
              "    }\n",
              "</style>\n",
              "<table border=\"1\" class=\"dataframe\">\n",
              "  <thead>\n",
              "    <tr style=\"text-align: right;\">\n",
              "      <th></th>\n",
              "      <th>Date</th>\n",
              "      <th>Open</th>\n",
              "      <th>High</th>\n",
              "      <th>Low</th>\n",
              "      <th>Close</th>\n",
              "      <th>Adj Close</th>\n",
              "      <th>Volume</th>\n",
              "      <th>variacion</th>\n",
              "    </tr>\n",
              "  </thead>\n",
              "  <tbody>\n",
              "    <tr>\n",
              "      <th>0</th>\n",
              "      <td>2014-09-17</td>\n",
              "      <td>465.864014</td>\n",
              "      <td>468.174011</td>\n",
              "      <td>452.421997</td>\n",
              "      <td>457.334015</td>\n",
              "      <td>457.334015</td>\n",
              "      <td>21056800.0</td>\n",
              "      <td>15.752014</td>\n",
              "    </tr>\n",
              "    <tr>\n",
              "      <th>1</th>\n",
              "      <td>2014-09-18</td>\n",
              "      <td>456.859985</td>\n",
              "      <td>456.859985</td>\n",
              "      <td>413.104004</td>\n",
              "      <td>424.440002</td>\n",
              "      <td>424.440002</td>\n",
              "      <td>34483200.0</td>\n",
              "      <td>43.755981</td>\n",
              "    </tr>\n",
              "    <tr>\n",
              "      <th>2</th>\n",
              "      <td>2014-09-19</td>\n",
              "      <td>424.102997</td>\n",
              "      <td>427.834991</td>\n",
              "      <td>384.532013</td>\n",
              "      <td>394.795990</td>\n",
              "      <td>394.795990</td>\n",
              "      <td>37919700.0</td>\n",
              "      <td>43.302978</td>\n",
              "    </tr>\n",
              "    <tr>\n",
              "      <th>3</th>\n",
              "      <td>2014-09-20</td>\n",
              "      <td>394.673004</td>\n",
              "      <td>423.295990</td>\n",
              "      <td>389.882996</td>\n",
              "      <td>408.903992</td>\n",
              "      <td>408.903992</td>\n",
              "      <td>36863600.0</td>\n",
              "      <td>33.412994</td>\n",
              "    </tr>\n",
              "    <tr>\n",
              "      <th>4</th>\n",
              "      <td>2014-09-21</td>\n",
              "      <td>408.084991</td>\n",
              "      <td>412.425995</td>\n",
              "      <td>393.181000</td>\n",
              "      <td>398.821014</td>\n",
              "      <td>398.821014</td>\n",
              "      <td>26580100.0</td>\n",
              "      <td>19.244995</td>\n",
              "    </tr>\n",
              "  </tbody>\n",
              "</table>\n",
              "</div>"
            ],
            "text/plain": [
              "        Date        Open        High  ...   Adj Close      Volume  variacion\n",
              "0 2014-09-17  465.864014  468.174011  ...  457.334015  21056800.0  15.752014\n",
              "1 2014-09-18  456.859985  456.859985  ...  424.440002  34483200.0  43.755981\n",
              "2 2014-09-19  424.102997  427.834991  ...  394.795990  37919700.0  43.302978\n",
              "3 2014-09-20  394.673004  423.295990  ...  408.903992  36863600.0  33.412994\n",
              "4 2014-09-21  408.084991  412.425995  ...  398.821014  26580100.0  19.244995\n",
              "\n",
              "[5 rows x 8 columns]"
            ]
          },
          "execution_count": 88,
          "metadata": {},
          "output_type": "execute_result"
        }
      ],
      "source": [
        "bitcoin.head()"
      ]
    },
    {
      "cell_type": "code",
      "execution_count": 87,
      "metadata": {
        "colab": {
          "base_uri": "https://localhost:8080/"
        },
        "id": "GrZa4KE3Y-0l",
        "outputId": "d31aa695-c08a-4207-dfbb-f5be097821b7"
      },
      "outputs": [
        {
          "data": {
            "text/plain": [
              "Date         0\n",
              "Open         4\n",
              "High         4\n",
              "Low          4\n",
              "Close        4\n",
              "Adj Close    4\n",
              "Volume       4\n",
              "variacion    4\n",
              "dtype: int64"
            ]
          },
          "execution_count": 87,
          "metadata": {},
          "output_type": "execute_result"
        }
      ],
      "source": [
        "bitcoin.isna().sum()"
      ]
    },
    {
      "cell_type": "code",
      "execution_count": 90,
      "metadata": {
        "colab": {
          "base_uri": "https://localhost:8080/",
          "height": 423
        },
        "id": "6aUw82zGZPjb",
        "outputId": "c66b8fcf-9814-412f-804d-604e33ba2d34"
      },
      "outputs": [
        {
          "data": {
            "text/html": [
              "<div>\n",
              "<style scoped>\n",
              "    .dataframe tbody tr th:only-of-type {\n",
              "        vertical-align: middle;\n",
              "    }\n",
              "\n",
              "    .dataframe tbody tr th {\n",
              "        vertical-align: top;\n",
              "    }\n",
              "\n",
              "    .dataframe thead th {\n",
              "        text-align: right;\n",
              "    }\n",
              "</style>\n",
              "<table border=\"1\" class=\"dataframe\">\n",
              "  <thead>\n",
              "    <tr style=\"text-align: right;\">\n",
              "      <th></th>\n",
              "      <th>Date</th>\n",
              "      <th>Open</th>\n",
              "      <th>High</th>\n",
              "      <th>Low</th>\n",
              "      <th>Close</th>\n",
              "      <th>Adj Close</th>\n",
              "      <th>Volume</th>\n",
              "      <th>variacion</th>\n",
              "    </tr>\n",
              "  </thead>\n",
              "  <tbody>\n",
              "    <tr>\n",
              "      <th>119</th>\n",
              "      <td>2015-01-14</td>\n",
              "      <td>223.893997</td>\n",
              "      <td>223.893997</td>\n",
              "      <td>171.509995</td>\n",
              "      <td>178.102997</td>\n",
              "      <td>178.102997</td>\n",
              "      <td>9.763870e+07</td>\n",
              "      <td>52.384002</td>\n",
              "    </tr>\n",
              "    <tr>\n",
              "      <th>122</th>\n",
              "      <td>2015-01-17</td>\n",
              "      <td>207.834000</td>\n",
              "      <td>211.731003</td>\n",
              "      <td>194.875000</td>\n",
              "      <td>199.259995</td>\n",
              "      <td>199.259995</td>\n",
              "      <td>2.346970e+07</td>\n",
              "      <td>16.856003</td>\n",
              "    </tr>\n",
              "    <tr>\n",
              "      <th>121</th>\n",
              "      <td>2015-01-16</td>\n",
              "      <td>209.070007</td>\n",
              "      <td>221.591003</td>\n",
              "      <td>199.770996</td>\n",
              "      <td>208.097000</td>\n",
              "      <td>208.097000</td>\n",
              "      <td>3.842100e+07</td>\n",
              "      <td>21.820007</td>\n",
              "    </tr>\n",
              "    <tr>\n",
              "      <th>120</th>\n",
              "      <td>2015-01-15</td>\n",
              "      <td>176.897003</td>\n",
              "      <td>229.067001</td>\n",
              "      <td>176.897003</td>\n",
              "      <td>209.843994</td>\n",
              "      <td>209.843994</td>\n",
              "      <td>8.177350e+07</td>\n",
              "      <td>52.169998</td>\n",
              "    </tr>\n",
              "    <tr>\n",
              "      <th>123</th>\n",
              "      <td>2015-01-18</td>\n",
              "      <td>200.050003</td>\n",
              "      <td>218.695007</td>\n",
              "      <td>194.505997</td>\n",
              "      <td>210.339005</td>\n",
              "      <td>210.339005</td>\n",
              "      <td>3.008510e+07</td>\n",
              "      <td>24.189010</td>\n",
              "    </tr>\n",
              "    <tr>\n",
              "      <th>...</th>\n",
              "      <td>...</td>\n",
              "      <td>...</td>\n",
              "      <td>...</td>\n",
              "      <td>...</td>\n",
              "      <td>...</td>\n",
              "      <td>...</td>\n",
              "      <td>...</td>\n",
              "      <td>...</td>\n",
              "    </tr>\n",
              "    <tr>\n",
              "      <th>2611</th>\n",
              "      <td>2021-11-10</td>\n",
              "      <td>67089.476563</td>\n",
              "      <td>68744.031250</td>\n",
              "      <td>66377.671875</td>\n",
              "      <td>67674.796875</td>\n",
              "      <td>67674.796875</td>\n",
              "      <td>3.939938e+10</td>\n",
              "      <td>2366.359375</td>\n",
              "    </tr>\n",
              "    <tr>\n",
              "      <th>2039</th>\n",
              "      <td>2020-04-17</td>\n",
              "      <td>NaN</td>\n",
              "      <td>NaN</td>\n",
              "      <td>NaN</td>\n",
              "      <td>NaN</td>\n",
              "      <td>NaN</td>\n",
              "      <td>NaN</td>\n",
              "      <td>NaN</td>\n",
              "    </tr>\n",
              "    <tr>\n",
              "      <th>2214</th>\n",
              "      <td>2020-10-09</td>\n",
              "      <td>NaN</td>\n",
              "      <td>NaN</td>\n",
              "      <td>NaN</td>\n",
              "      <td>NaN</td>\n",
              "      <td>NaN</td>\n",
              "      <td>NaN</td>\n",
              "      <td>NaN</td>\n",
              "    </tr>\n",
              "    <tr>\n",
              "      <th>2217</th>\n",
              "      <td>2020-10-12</td>\n",
              "      <td>NaN</td>\n",
              "      <td>NaN</td>\n",
              "      <td>NaN</td>\n",
              "      <td>NaN</td>\n",
              "      <td>NaN</td>\n",
              "      <td>NaN</td>\n",
              "      <td>NaN</td>\n",
              "    </tr>\n",
              "    <tr>\n",
              "      <th>2218</th>\n",
              "      <td>2020-10-13</td>\n",
              "      <td>NaN</td>\n",
              "      <td>NaN</td>\n",
              "      <td>NaN</td>\n",
              "      <td>NaN</td>\n",
              "      <td>NaN</td>\n",
              "      <td>NaN</td>\n",
              "      <td>NaN</td>\n",
              "    </tr>\n",
              "  </tbody>\n",
              "</table>\n",
              "<p>2612 rows × 8 columns</p>\n",
              "</div>"
            ],
            "text/plain": [
              "           Date          Open  ...        Volume    variacion\n",
              "119  2015-01-14    223.893997  ...  9.763870e+07    52.384002\n",
              "122  2015-01-17    207.834000  ...  2.346970e+07    16.856003\n",
              "121  2015-01-16    209.070007  ...  3.842100e+07    21.820007\n",
              "120  2015-01-15    176.897003  ...  8.177350e+07    52.169998\n",
              "123  2015-01-18    200.050003  ...  3.008510e+07    24.189010\n",
              "...         ...           ...  ...           ...          ...\n",
              "2611 2021-11-10  67089.476563  ...  3.939938e+10  2366.359375\n",
              "2039 2020-04-17           NaN  ...           NaN          NaN\n",
              "2214 2020-10-09           NaN  ...           NaN          NaN\n",
              "2217 2020-10-12           NaN  ...           NaN          NaN\n",
              "2218 2020-10-13           NaN  ...           NaN          NaN\n",
              "\n",
              "[2612 rows x 8 columns]"
            ]
          },
          "execution_count": 90,
          "metadata": {},
          "output_type": "execute_result"
        }
      ],
      "source": [
        "bitcoin.sort_values(\"Close\") # para orden descendiente: ascending = False"
      ]
    },
    {
      "cell_type": "markdown",
      "metadata": {
        "id": "IQQ_pUYg-nQb"
      },
      "source": [
        "### Visualización de datos desde un DataFrame.\n",
        "* Se debe agregar método `plot` y dentro de este, las variables a graficar entre comillas.\n",
        "* Algunos tipos de gráficos disponibles desde el método: `bar`, `density`, `hist`, `kde`, `line`, `pie`, `scatter`, etc."
      ]
    },
    {
      "cell_type": "code",
      "execution_count": 91,
      "metadata": {
        "colab": {
          "base_uri": "https://localhost:8080/",
          "height": 297
        },
        "id": "g9ThO-SD-nQb",
        "outputId": "32b2fe54-2f7c-4a8b-b2af-fdb9e0bc63c8"
      },
      "outputs": [
        {
          "data": {
            "text/plain": [
              "<matplotlib.axes._subplots.AxesSubplot at 0x7f07b3ce80d0>"
            ]
          },
          "execution_count": 91,
          "metadata": {},
          "output_type": "execute_result"
        },
        {
          "data": {
            "image/png": "[encoded data removed]",
            "text/plain": [
              "<Figure size 432x288 with 1 Axes>"
            ]
          },
          "metadata": {
            "needs_background": "light"
          },
          "output_type": "display_data"
        }
      ],
      "source": [
        "# Ejemplo de gráfico de líneas: Gráficar variable High en el tiempo.\n",
        "\n",
        "bitcoin.plot.line(\"Date\", \"High\")"
      ]
    },
    {
      "cell_type": "markdown",
      "metadata": {
        "id": "SxniJ2Bw-nQb"
      },
      "source": [
        "### Visualización de datos desde un iterable\n",
        "\n",
        "<img src=\"https://interactivechaos.com/sites/default/files/inline-images/tutorial_matplotlib.png\" width=\"500px\">\n",
        "\n",
        "* Para ello debemos importar la librería `matplotlib`, que nos ofrece una amplia colección de módulos para realizar gráficos.\n",
        "* Por convención se importa el módulo `pyplot` de `matplotlib` con el alias `plt`.\n",
        "* Nos permite acceder a distintos tipos de gráficos desde el comando `plt`. Podemos indicar iterables como `array`s, `Series` (se transforman a `array`s internamente) y `listas`. "
      ]
    },
    {
      "cell_type": "code",
      "execution_count": 93,
      "metadata": {
        "colab": {
          "base_uri": "https://localhost:8080/",
          "height": 283
        },
        "id": "uu1S_AzR-nQb",
        "outputId": "8636b85b-d065-44ff-97e9-bdc0f16eab78"
      },
      "outputs": [
        {
          "data": {
            "text/plain": [
              "<BarContainer object of 3 artists>"
            ]
          },
          "execution_count": 93,
          "metadata": {},
          "output_type": "execute_result"
        },
        {
          "data": {
            "image/png": "[encoded data removed]",
            "text/plain": [
              "<Figure size 432x288 with 1 Axes>"
            ]
          },
          "metadata": {
            "needs_background": "light"
          },
          "output_type": "display_data"
        }
      ],
      "source": [
        "import matplotlib.pyplot as plt\n",
        "opciones = ['Si', 'No', 'No lo sé']\n",
        "cantidad = [20, 15, 10]\n",
        "# Graficar barras de una encuestra sobre si votaría determinad@ candidat@ presidencial\n",
        "\n",
        "plt.bar(opciones,  cantidad)"
      ]
    },
    {
      "cell_type": "markdown",
      "metadata": {
        "id": "5NZYA6OK-nQb"
      },
      "source": [
        "## Actividad Práctica"
      ]
    },
    {
      "cell_type": "markdown",
      "metadata": {
        "id": "3QIeDaUY-nQb"
      },
      "source": [
        "### Pregunta 1\n",
        "Ingrese en su entorno de trabajo la base de datos `Sample - Superstore.xls` disponible en el siguiente [link](https://github.com/estebanrucan/taller-python/raw/master/data/Sample%20-%20Superstore.xls)."
      ]
    },
    {
      "cell_type": "code",
      "execution_count": null,
      "metadata": {
        "id": "9b6GkU84-nQb"
      },
      "outputs": [],
      "source": [
        "# Desarrollo Pregunta 1\n",
        "\n",
        "# Ponga base de datos en directorio de trabajo, no realice este paso si utiliza el link directamente"
      ]
    },
    {
      "cell_type": "markdown",
      "metadata": {
        "id": "ym8PfVEi-nQb"
      },
      "source": [
        "### Pregunta 2\n",
        "Cargue la base de datos en una variable llamada `cadena_usa`."
      ]
    },
    {
      "cell_type": "code",
      "execution_count": 13,
      "metadata": {
        "id": "ZmxhteKR-nQc"
      },
      "outputs": [
        {
          "data": {
            "text/html": [
              "<div>\n",
              "<style scoped>\n",
              "    .dataframe tbody tr th:only-of-type {\n",
              "        vertical-align: middle;\n",
              "    }\n",
              "\n",
              "    .dataframe tbody tr th {\n",
              "        vertical-align: top;\n",
              "    }\n",
              "\n",
              "    .dataframe thead th {\n",
              "        text-align: right;\n",
              "    }\n",
              "</style>\n",
              "<table border=\"1\" class=\"dataframe\">\n",
              "  <thead>\n",
              "    <tr style=\"text-align: right;\">\n",
              "      <th></th>\n",
              "      <th>Row ID</th>\n",
              "      <th>Order ID</th>\n",
              "      <th>Order Date</th>\n",
              "      <th>Ship Date</th>\n",
              "      <th>Ship Mode</th>\n",
              "      <th>Customer ID</th>\n",
              "      <th>Customer Name</th>\n",
              "      <th>Segment</th>\n",
              "      <th>Country</th>\n",
              "      <th>City</th>\n",
              "      <th>...</th>\n",
              "      <th>Postal Code</th>\n",
              "      <th>Region</th>\n",
              "      <th>Product ID</th>\n",
              "      <th>Category</th>\n",
              "      <th>Sub-Category</th>\n",
              "      <th>Product Name</th>\n",
              "      <th>Sales</th>\n",
              "      <th>Quantity</th>\n",
              "      <th>Discount</th>\n",
              "      <th>Profit</th>\n",
              "    </tr>\n",
              "  </thead>\n",
              "  <tbody>\n",
              "    <tr>\n",
              "      <th>0</th>\n",
              "      <td>1</td>\n",
              "      <td>CA-2016-152156</td>\n",
              "      <td>2016-11-08</td>\n",
              "      <td>2016-11-11</td>\n",
              "      <td>Second Class</td>\n",
              "      <td>CG-12520</td>\n",
              "      <td>Claire Gute</td>\n",
              "      <td>Consumer</td>\n",
              "      <td>United States</td>\n",
              "      <td>Henderson</td>\n",
              "      <td>...</td>\n",
              "      <td>42420</td>\n",
              "      <td>South</td>\n",
              "      <td>FUR-BO-10001798</td>\n",
              "      <td>Furniture</td>\n",
              "      <td>Bookcases</td>\n",
              "      <td>Bush Somerset Collection Bookcase</td>\n",
              "      <td>261.9600</td>\n",
              "      <td>2</td>\n",
              "      <td>0.00</td>\n",
              "      <td>41.9136</td>\n",
              "    </tr>\n",
              "    <tr>\n",
              "      <th>1</th>\n",
              "      <td>2</td>\n",
              "      <td>CA-2016-152156</td>\n",
              "      <td>2016-11-08</td>\n",
              "      <td>2016-11-11</td>\n",
              "      <td>Second Class</td>\n",
              "      <td>CG-12520</td>\n",
              "      <td>Claire Gute</td>\n",
              "      <td>Consumer</td>\n",
              "      <td>United States</td>\n",
              "      <td>Henderson</td>\n",
              "      <td>...</td>\n",
              "      <td>42420</td>\n",
              "      <td>South</td>\n",
              "      <td>FUR-CH-10000454</td>\n",
              "      <td>Furniture</td>\n",
              "      <td>Chairs</td>\n",
              "      <td>Hon Deluxe Fabric Upholstered Stacking Chairs,...</td>\n",
              "      <td>731.9400</td>\n",
              "      <td>3</td>\n",
              "      <td>0.00</td>\n",
              "      <td>219.5820</td>\n",
              "    </tr>\n",
              "    <tr>\n",
              "      <th>2</th>\n",
              "      <td>3</td>\n",
              "      <td>CA-2016-138688</td>\n",
              "      <td>2016-06-12</td>\n",
              "      <td>2016-06-16</td>\n",
              "      <td>Second Class</td>\n",
              "      <td>DV-13045</td>\n",
              "      <td>Darrin Van Huff</td>\n",
              "      <td>Corporate</td>\n",
              "      <td>United States</td>\n",
              "      <td>Los Angeles</td>\n",
              "      <td>...</td>\n",
              "      <td>90036</td>\n",
              "      <td>West</td>\n",
              "      <td>OFF-LA-10000240</td>\n",
              "      <td>Office Supplies</td>\n",
              "      <td>Labels</td>\n",
              "      <td>Self-Adhesive Address Labels for Typewriters b...</td>\n",
              "      <td>14.6200</td>\n",
              "      <td>2</td>\n",
              "      <td>0.00</td>\n",
              "      <td>6.8714</td>\n",
              "    </tr>\n",
              "    <tr>\n",
              "      <th>3</th>\n",
              "      <td>4</td>\n",
              "      <td>US-2015-108966</td>\n",
              "      <td>2015-10-11</td>\n",
              "      <td>2015-10-18</td>\n",
              "      <td>Standard Class</td>\n",
              "      <td>SO-20335</td>\n",
              "      <td>Sean O'Donnell</td>\n",
              "      <td>Consumer</td>\n",
              "      <td>United States</td>\n",
              "      <td>Fort Lauderdale</td>\n",
              "      <td>...</td>\n",
              "      <td>33311</td>\n",
              "      <td>South</td>\n",
              "      <td>FUR-TA-10000577</td>\n",
              "      <td>Furniture</td>\n",
              "      <td>Tables</td>\n",
              "      <td>Bretford CR4500 Series Slim Rectangular Table</td>\n",
              "      <td>957.5775</td>\n",
              "      <td>5</td>\n",
              "      <td>0.45</td>\n",
              "      <td>-383.0310</td>\n",
              "    </tr>\n",
              "    <tr>\n",
              "      <th>4</th>\n",
              "      <td>5</td>\n",
              "      <td>US-2015-108966</td>\n",
              "      <td>2015-10-11</td>\n",
              "      <td>2015-10-18</td>\n",
              "      <td>Standard Class</td>\n",
              "      <td>SO-20335</td>\n",
              "      <td>Sean O'Donnell</td>\n",
              "      <td>Consumer</td>\n",
              "      <td>United States</td>\n",
              "      <td>Fort Lauderdale</td>\n",
              "      <td>...</td>\n",
              "      <td>33311</td>\n",
              "      <td>South</td>\n",
              "      <td>OFF-ST-10000760</td>\n",
              "      <td>Office Supplies</td>\n",
              "      <td>Storage</td>\n",
              "      <td>Eldon Fold 'N Roll Cart System</td>\n",
              "      <td>22.3680</td>\n",
              "      <td>2</td>\n",
              "      <td>0.20</td>\n",
              "      <td>2.5164</td>\n",
              "    </tr>\n",
              "  </tbody>\n",
              "</table>\n",
              "<p>5 rows × 21 columns</p>\n",
              "</div>"
            ],
            "text/plain": [
              "   Row ID        Order ID Order Date  Ship Date       Ship Mode Customer ID  \\\n",
              "0       1  CA-2016-152156 2016-11-08 2016-11-11    Second Class    CG-12520   \n",
              "1       2  CA-2016-152156 2016-11-08 2016-11-11    Second Class    CG-12520   \n",
              "2       3  CA-2016-138688 2016-06-12 2016-06-16    Second Class    DV-13045   \n",
              "3       4  US-2015-108966 2015-10-11 2015-10-18  Standard Class    SO-20335   \n",
              "4       5  US-2015-108966 2015-10-11 2015-10-18  Standard Class    SO-20335   \n",
              "\n",
              "     Customer Name    Segment        Country             City  ...  \\\n",
              "0      Claire Gute   Consumer  United States        Henderson  ...   \n",
              "1      Claire Gute   Consumer  United States        Henderson  ...   \n",
              "2  Darrin Van Huff  Corporate  United States      Los Angeles  ...   \n",
              "3   Sean O'Donnell   Consumer  United States  Fort Lauderdale  ...   \n",
              "4   Sean O'Donnell   Consumer  United States  Fort Lauderdale  ...   \n",
              "\n",
              "  Postal Code  Region       Product ID         Category Sub-Category  \\\n",
              "0       42420   South  FUR-BO-10001798        Furniture    Bookcases   \n",
              "1       42420   South  FUR-CH-10000454        Furniture       Chairs   \n",
              "2       90036    West  OFF-LA-10000240  Office Supplies       Labels   \n",
              "3       33311   South  FUR-TA-10000577        Furniture       Tables   \n",
              "4       33311   South  OFF-ST-10000760  Office Supplies      Storage   \n",
              "\n",
              "                                        Product Name     Sales  Quantity  \\\n",
              "0                  Bush Somerset Collection Bookcase  261.9600         2   \n",
              "1  Hon Deluxe Fabric Upholstered Stacking Chairs,...  731.9400         3   \n",
              "2  Self-Adhesive Address Labels for Typewriters b...   14.6200         2   \n",
              "3      Bretford CR4500 Series Slim Rectangular Table  957.5775         5   \n",
              "4                     Eldon Fold 'N Roll Cart System   22.3680         2   \n",
              "\n",
              "   Discount    Profit  \n",
              "0      0.00   41.9136  \n",
              "1      0.00  219.5820  \n",
              "2      0.00    6.8714  \n",
              "3      0.45 -383.0310  \n",
              "4      0.20    2.5164  \n",
              "\n",
              "[5 rows x 21 columns]"
            ]
          },
          "execution_count": 13,
          "metadata": {},
          "output_type": "execute_result"
        }
      ],
      "source": [
        "# Desarrollo Pregunta 2\n",
        "# import pandas as pd\n",
        "cadena_usa = pd.read_excel(\"https://github.com/estebanrucan/taller-python/raw/master/data/Sample%20-%20Superstore.xls\")\n",
        "cadena_usa.head()\n"
      ]
    },
    {
      "cell_type": "markdown",
      "metadata": {
        "id": "cfLy8rNc-nQc"
      },
      "source": [
        "### Pregunta 3\n",
        "Realice un Análisis Exploratorio que permita descubrir el efecto que tiene el porcentaje de descuento sobre el profit obtenido con los productos vendidos, incluya gráficos en el análisis ¿Qué conclusiones se logran obtener? ¿Cuál sería su recomendación?"
      ]
    },
    {
      "cell_type": "code",
      "execution_count": 14,
      "metadata": {},
      "outputs": [
        {
          "data": {
            "text/plain": [
              "Index(['Row ID', 'Order ID', 'Order Date', 'Ship Date', 'Ship Mode',\n",
              "       'Customer ID', 'Customer Name', 'Segment', 'Country', 'City', 'State',\n",
              "       'Postal Code', 'Region', 'Product ID', 'Category', 'Sub-Category',\n",
              "       'Product Name', 'Sales', 'Quantity', 'Discount', 'Profit'],\n",
              "      dtype='object')"
            ]
          },
          "execution_count": 14,
          "metadata": {},
          "output_type": "execute_result"
        }
      ],
      "source": [
        "cadena_usa.columns"
      ]
    },
    {
      "cell_type": "code",
      "execution_count": 19,
      "metadata": {
        "id": "6Q4hqn84-nQc"
      },
      "outputs": [
        {
          "data": {
            "text/plain": [
              "<matplotlib.axes._subplots.AxesSubplot at 0x1dce550bec8>"
            ]
          },
          "execution_count": 19,
          "metadata": {},
          "output_type": "execute_result"
        },
        {
          "data": {
            "image/png": "[encoded data removed]",
            "text/plain": [
              "<Figure size 432x288 with 2 Axes>"
            ]
          },
          "metadata": {
            "needs_background": "light"
          },
          "output_type": "display_data"
        }
      ],
      "source": [
        "# Desarrollo Pregunta 3\n",
        "# %matplotlib inline: pegar abajo si no les muestra el gráfico\n",
        "cadena_usa.plot.scatter(\"Sales\", \"Profit\", c = \"Discount\", cmap = \"viridis\")\n",
        "# c: colorear puntos de acuerdo a una variable\n",
        "# cmap: paleta de colores del gráfico, en este caso usamos paleta viridis."
      ]
    },
    {
      "cell_type": "markdown",
      "metadata": {
        "id": "BMhTvjxT-nQc"
      },
      "source": [
        "### Pregunta 4\n",
        "¿Que categoría de producto genera mayores ingresos? ¿Cuál es la categoría de producto más vendida?"
      ]
    },
    {
      "cell_type": "code",
      "execution_count": 20,
      "metadata": {
        "id": "q1Mk9KEg-nQc"
      },
      "outputs": [
        {
          "data": {
            "text/html": [
              "<div>\n",
              "<style scoped>\n",
              "    .dataframe tbody tr th:only-of-type {\n",
              "        vertical-align: middle;\n",
              "    }\n",
              "\n",
              "    .dataframe tbody tr th {\n",
              "        vertical-align: top;\n",
              "    }\n",
              "\n",
              "    .dataframe thead th {\n",
              "        text-align: right;\n",
              "    }\n",
              "</style>\n",
              "<table border=\"1\" class=\"dataframe\">\n",
              "  <thead>\n",
              "    <tr style=\"text-align: right;\">\n",
              "      <th></th>\n",
              "      <th>Profit</th>\n",
              "    </tr>\n",
              "    <tr>\n",
              "      <th>Category</th>\n",
              "      <th></th>\n",
              "    </tr>\n",
              "  </thead>\n",
              "  <tbody>\n",
              "    <tr>\n",
              "      <th>Furniture</th>\n",
              "      <td>18451.2728</td>\n",
              "    </tr>\n",
              "    <tr>\n",
              "      <th>Office Supplies</th>\n",
              "      <td>122490.8008</td>\n",
              "    </tr>\n",
              "    <tr>\n",
              "      <th>Technology</th>\n",
              "      <td>145454.9481</td>\n",
              "    </tr>\n",
              "  </tbody>\n",
              "</table>\n",
              "</div>"
            ],
            "text/plain": [
              "                      Profit\n",
              "Category                    \n",
              "Furniture         18451.2728\n",
              "Office Supplies  122490.8008\n",
              "Technology       145454.9481"
            ]
          },
          "execution_count": 20,
          "metadata": {},
          "output_type": "execute_result"
        }
      ],
      "source": [
        "# Desarrollo Pregunta 4\n",
        "\n",
        "# Para ver categoría mayores ingresos\n",
        "cadena_usa.groupby([\"Category\"]).agg({\"Profit\": \"sum\"})\n"
      ]
    },
    {
      "cell_type": "code",
      "execution_count": 21,
      "metadata": {},
      "outputs": [
        {
          "data": {
            "text/html": [
              "<div>\n",
              "<style scoped>\n",
              "    .dataframe tbody tr th:only-of-type {\n",
              "        vertical-align: middle;\n",
              "    }\n",
              "\n",
              "    .dataframe tbody tr th {\n",
              "        vertical-align: top;\n",
              "    }\n",
              "\n",
              "    .dataframe thead th {\n",
              "        text-align: right;\n",
              "    }\n",
              "</style>\n",
              "<table border=\"1\" class=\"dataframe\">\n",
              "  <thead>\n",
              "    <tr style=\"text-align: right;\">\n",
              "      <th></th>\n",
              "      <th>Quantity</th>\n",
              "    </tr>\n",
              "    <tr>\n",
              "      <th>Category</th>\n",
              "      <th></th>\n",
              "    </tr>\n",
              "  </thead>\n",
              "  <tbody>\n",
              "    <tr>\n",
              "      <th>Furniture</th>\n",
              "      <td>8028</td>\n",
              "    </tr>\n",
              "    <tr>\n",
              "      <th>Office Supplies</th>\n",
              "      <td>22906</td>\n",
              "    </tr>\n",
              "    <tr>\n",
              "      <th>Technology</th>\n",
              "      <td>6939</td>\n",
              "    </tr>\n",
              "  </tbody>\n",
              "</table>\n",
              "</div>"
            ],
            "text/plain": [
              "                 Quantity\n",
              "Category                 \n",
              "Furniture            8028\n",
              "Office Supplies     22906\n",
              "Technology           6939"
            ]
          },
          "execution_count": 21,
          "metadata": {},
          "output_type": "execute_result"
        }
      ],
      "source": [
        "# Categoría más vendida\n",
        "cadena_usa.groupby([\"Category\"]).agg({\"Quantity\": \"sum\"})"
      ]
    },
    {
      "cell_type": "markdown",
      "metadata": {
        "id": "P0QZW7wL-nQc"
      },
      "source": [
        "### Pregunta 5\n",
        "Cree un ciclo que obtenga tablas sobre la sub-categoría que genera más ventas en dólares en cada estado de USA. Los resultados deben ser almacenados en un diccionario. ¿Cuál es la categoría más vendida en New York?"
      ]
    },
    {
      "cell_type": "code",
      "execution_count": 32,
      "metadata": {
        "id": "xbxiSO_i-nQc"
      },
      "outputs": [
        {
          "data": {
            "text/plain": [
              "array(['Kentucky', 'California', 'Florida', 'North Carolina',\n",
              "       'Washington', 'Texas', 'Wisconsin', 'Utah', 'Nebraska',\n",
              "       'Pennsylvania', 'Illinois', 'Minnesota', 'Michigan', 'Delaware',\n",
              "       'Indiana', 'New York', 'Arizona', 'Virginia', 'Tennessee',\n",
              "       'Alabama', 'South Carolina', 'Oregon', 'Colorado', 'Iowa', 'Ohio',\n",
              "       'Missouri', 'Oklahoma', 'New Mexico', 'Louisiana', 'Connecticut',\n",
              "       'New Jersey', 'Massachusetts', 'Georgia', 'Nevada', 'Rhode Island',\n",
              "       'Mississippi', 'Arkansas', 'Montana', 'New Hampshire', 'Maryland',\n",
              "       'District of Columbia', 'Kansas', 'Vermont', 'Maine',\n",
              "       'South Dakota', 'Idaho', 'North Dakota', 'Wyoming',\n",
              "       'West Virginia'], dtype=object)"
            ]
          },
          "execution_count": 32,
          "metadata": {},
          "output_type": "execute_result"
        }
      ],
      "source": [
        "# Desarrollo Pregunta 5\n",
        "estados = cadena_usa[\"State\"].unique() # Obtengo valores únicos de sub-categorías\n",
        "estados"
      ]
    },
    {
      "cell_type": "code",
      "execution_count": 37,
      "metadata": {},
      "outputs": [],
      "source": [
        "diccionario_estados = dict() # Creo diccionario vacío\n",
        "\n",
        "for estado in estados:\n",
        "    filtro_estado      = cadena_usa[cadena_usa[\"State\"] == estado]\n",
        "    ventas_subcat      = filtro_estado.groupby([\"Sub-Category\"]).agg({\"Sales\": \"sum\"})\n",
        "    ventas_ordenadas   = ventas_subcat.sort_values(\"Sales\", ascending = False)\n",
        "    indices            = ventas_ordenadas.index\n",
        "    subcat_mas_vendida = indices[0]\n",
        "    diccionario_estados[estado] = subcat_mas_vendida"
      ]
    },
    {
      "cell_type": "code",
      "execution_count": 38,
      "metadata": {},
      "outputs": [
        {
          "data": {
            "text/plain": [
              "'Phones'"
            ]
          },
          "execution_count": 38,
          "metadata": {},
          "output_type": "execute_result"
        }
      ],
      "source": [
        "diccionario_estados[\"New York\"]\n",
        "# Por lo tanto la sub-categoría más vendida es \"Phones\""
      ]
    },
    {
      "cell_type": "markdown",
      "metadata": {
        "id": "xwObjczu-nQd"
      },
      "source": [
        "### Pregunta 6\n",
        "Ha sido un largo día, tome un descanso. Ejecute el siguiente bloque de código:"
      ]
    },
    {
      "cell_type": "code",
      "execution_count": 25,
      "metadata": {
        "id": "J5wDtExN-nQd"
      },
      "outputs": [
        {
          "name": "stderr",
          "output_type": "stream",
          "text": [
            "Done! Use 'show' commands to display/save.   |██████████| [100%]   00:00 -> (00:00 left)\n"
          ]
        },
        {
          "name": "stdout",
          "output_type": "stream",
          "text": [
            "Report SWEETVIZ_REPORT.html was generated! NOTEBOOK/COLAB USERS: the web browser MAY not pop up, regardless, the report IS saved in your notebook/colab files.\n"
          ]
        }
      ],
      "source": [
        "# En caso de que aún no la instalen:\n",
        "# !pip install sweetviz\n",
        "import sweetviz as sv\n",
        "\n",
        "analisis = sv.analyze(cadena_usa)\n",
        "analisis.show_html()"
      ]
    },
    {
      "cell_type": "markdown",
      "metadata": {
        "id": "-IJomQCZ-nQd"
      },
      "source": [
        "## Referencias y material complementario\n",
        "\n",
        "### Referencias\n",
        "\n",
        "* A Python Data Analyst's Toolkit: Learn Python and Python-based Libraries whit Aplications in Data Analysis and Statistics. Año: 2021. Autor: Gayathri Rajagopalan. Editorial: APRESS.\n",
        "* Documentación de Numpy: <https://numpy.org/doc/>\n",
        "* Documentación de Pandas: <https://pandas.pydata.org/docs/>\n",
        "* Documentación de Matplotlib: <https://matplotlib.org/>\n",
        "\n",
        "### Material complementario y links de interés\n",
        "* Mi libro de apuntes: <https://estebanrucan.github.io/personal-book/>\n",
        "* Data Science UC: <https://datascience.uc.cl/>\n",
        "* Programas de posgrado Facultad de Matemáticas UC: <http://www.mat.uc.cl//programas-de-postgrado.html>"
      ]
    }
  ],
  "metadata": {
    "colab": {
      "name": "taller-python.ipynb",
      "provenance": []
    },
    "interpreter": {
      "hash": "a782e91f3854434a1924d5cbeed94dcce0f1ab6e0958f272b7513c90004e79a3"
    },
    "kernelspec": {
      "display_name": "Python 3.9.7 64-bit ('myenv': conda)",
      "language": "python",
      "name": "python3"
    },
    "language_info": {
      "codemirror_mode": {
        "name": "ipython",
        "version": 3
      },
      "file_extension": ".py",
      "mimetype": "text/x-python",
      "name": "python",
      "nbconvert_exporter": "python",
      "pygments_lexer": "ipython3",
      "version": "3.7.12"
    },
    "orig_nbformat": 4
  },
  "nbformat": 4,
  "nbformat_minor": 0
}
