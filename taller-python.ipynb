{
 "cells": [
  {
   "cell_type": "markdown",
   "metadata": {},
   "source": [
    "# Introducción al uso de Python para Análisis de Datos"
   ]
  },
  {
   "cell_type": "markdown",
   "metadata": {},
   "source": [
    "LINK A GOOGLE COLAB: <https://colab.research.google.com/> <br>\n",
    "LINK A REPOSITORIO DE GITHUB: <https://github.com/estebanrucan/taller-python>"
   ]
  },
  {
   "cell_type": "markdown",
   "metadata": {},
   "source": [
    "## Contenidos\n",
    "\n",
    "<style>\n",
    "\n",
    ".row {\n",
    "  width: 100%;\n",
    "  display: flex;\n",
    "  flex-direction: row;\n",
    "  justify-content: space-around;\n",
    "}\n",
    ".block {\n",
    "  width: 400px;\n",
    "}\n",
    "\n",
    "</style>\n",
    "\n",
    "<div class=\"row\">\n",
    "\n",
    "<div class=\"block\">\n",
    "\n",
    "<img src=\"https://github.com/estebanrucan/taller-python/raw/master/img/taller.jpeg\"  height=\"450px\">\n",
    "\n",
    "</div>\n",
    "\n",
    "<div class=\"block\">\n",
    "\n",
    "## Primer bloque\n",
    "\n",
    "### Containers\n",
    "* Listas, Tuplas, Diccionarios.\n",
    "* Subsettings.\n",
    "* Funciones y métodos importantes.\n",
    "\n",
    "### Estructuras de control\n",
    "* Estructuras condicionales.\n",
    "* Estructuras iterativas.\n",
    "* Comprensión.\n",
    "\n",
    "### Funciones\n",
    "* Built-in\n",
    "* Definidas por usuario: `def` y `lambda`.\n",
    "* Diferencia con métodos.\n",
    "* Librerías y pip.\n",
    "\n",
    "</div>\n",
    "\n",
    "<div class=\"block\">\n",
    "\n",
    "## Segundo bloque\n",
    "\n",
    "### NumPy\n",
    "* Arrays.\n",
    "* Vectorización y coerción.\n",
    "* Manipulación básica.\n",
    "\n",
    "### Pandas\n",
    "* Estructuras DataFrame y Series.\n",
    "* Carga de bases de datos.\n",
    "* Transformación básica de datos.\n",
    "\n",
    "### Visualización de Datos\n",
    "* Desde objetos iterables.\n",
    "* Desde DataFrames.\n",
    "\n",
    "### Referencias\n",
    "* Referencias.\n",
    "* Material complementario y links de interés.\n",
    "\n",
    "</div>\n",
    "</div>"
   ]
  },
  {
   "cell_type": "markdown",
   "metadata": {},
   "source": [
    "## Containers"
   ]
  },
  {
   "cell_type": "markdown",
   "metadata": {},
   "source": [
    "\n",
    "* Se pueden definir como una colección de objetos dentro de una variable.\n",
    "* Entre los que más destacan: `listas`, `tuplas` y `diccionarios`.\n",
    "* `Listas`: Contienen un set de valores que son guardados de forma secuencial. Es mutable, es decir, se pueden agregar, quitar o modificar elementos dentro de este.\n",
    "* `Tuplas`: Estas no son mutables, pero tienen la ventaja de usar menos memoria y ser más rápidas.\n",
    "* `Diccionarios`: Estos tienen la ventaja de poder identificar cada elementos a través de una `key`."
   ]
  },
  {
   "cell_type": "code",
   "execution_count": 2,
   "metadata": {},
   "outputs": [],
   "source": [
    "# Ejemplo de lista\n",
    "\n",
    "\n",
    "\n",
    "# Ejemplo de tupla\n",
    "\n",
    "\n",
    "\n",
    "# Ejemplo de diccionario\n",
    "\n",
    "\n"
   ]
  },
  {
   "cell_type": "markdown",
   "metadata": {},
   "source": [
    "### Subsettings"
   ]
  },
  {
   "cell_type": "markdown",
   "metadata": {},
   "source": [
    "<img src=\"https://cdn.programiz.com/sites/tutorial2program/files/python-list-index.png\" width=\"500px\">"
   ]
  },
  {
   "cell_type": "markdown",
   "metadata": {},
   "source": [
    "* Existe la posibilidad de acceder a objectos dentro de containers usando paréntesis rectangulares.\n",
    "* Para acceder a objetos del tipo `listas` y `tuplas` la sintaxis es idéntica. Numeración de índices comienza desde el 0.\n",
    "* Para `diccionarios`, podemos acceder a los elementos escribiendo el nombre de la `key` entre paréntesis rectangulares."
   ]
  },
  {
   "cell_type": "code",
   "execution_count": 47,
   "metadata": {},
   "outputs": [],
   "source": [
    "# Subsettings en listas\n",
    "\n",
    "\n",
    "\n",
    "# Subsettings en diccionarios\n",
    "\n",
    "\n"
   ]
  },
  {
   "cell_type": "markdown",
   "metadata": {},
   "source": [
    "### Métodos importantes para listas\n",
    "\n",
    "* `append` : Agregar elemento al final.\n",
    "* `pop`    : Retorna y elimina el objecto ubicado en el índice indicado.\n",
    "* `remove` : Se usa cuando se conoce el nombre del elemento pero no su posición.\n",
    "* `reverse`: Cambia dirección en que se encuetran ubicacos los elementos de una lista.\n",
    "* `sort`   : Por defecto, ordena elementos de menor a mayor.\n",
    "\n",
    "### Funciones importantes para listas.\n",
    "\n",
    "* `len`      : Indica tamaño de lista.\n",
    "* `min`      : Mínimo valor dentro de lista.\n",
    "* `max`      : Máximo valor dentro de lista.\n",
    "* `sum`      : Suma elementos dentro de lista.\n",
    "* `zip`      : concatena listas en un objeto iterable, luego podemos usar la función `list` para acceder al resultado.\n",
    "* `enumerate`: Crea un containter donde cada posición esta compuesta por una tupla conteniendo el índice y elementos de una lista. Podemos usar la función `list` para acceder al resultado"
   ]
  },
  {
   "cell_type": "code",
   "execution_count": 4,
   "metadata": {},
   "outputs": [],
   "source": [
    "precios = [1000, 2000, 1500, 300, 600, 500, 5000]\n",
    "nombres = [\"Esteban\", \"Sebastián\", \"Ana\", \"María\"]"
   ]
  },
  {
   "cell_type": "code",
   "execution_count": 5,
   "metadata": {},
   "outputs": [],
   "source": [
    "# Ejemplos de funciones y métodos\n",
    "\n"
   ]
  },
  {
   "cell_type": "markdown",
   "metadata": {},
   "source": [
    "### Métodos importantes para diccionarios\n",
    "* `items` : Entrega una lista conteniendo una tupla para para par `key`, `valor`.\n",
    "* `key`   : Entrega una lista con todas las `keys` de un diccionario.\n",
    "* `values`: Entrega una lista con todos los `valores` de un diccionario.\n",
    "* `pop`   : Elimina del diccionario y retorna elemento ubicado en cierta `key`."
   ]
  },
  {
   "cell_type": "code",
   "execution_count": 6,
   "metadata": {},
   "outputs": [],
   "source": [
    "# Ejemplos de métodos para diccionarios\n",
    "\n"
   ]
  },
  {
   "cell_type": "markdown",
   "metadata": {},
   "source": [
    "## Control de flujo"
   ]
  },
  {
   "cell_type": "markdown",
   "metadata": {},
   "source": [
    "### Operadores\n",
    "\n",
    "* **Operadores comparativos** : Estas expresiones comparan dos valores y evaluan si son `True` o `False`. Estos son `<`,   `>`,  `<=`, `>=`, `==`, `!=`.\n",
    "* **Operadores lógicos**      : Estos operan entre elementos que son del tipo booleano (`True/False`). Encontramos a `or`, `and` y `not`.\n",
    "* **Operadores de asignación**: Estos asignan un valor a una variable u operador. Están `=`,                               `+=`, `-=`, `*=`, `/=`, entre otros.\n",
    "* **Operadores de membresía** : Comprueban si un valor en particular se encuentran en un container (como `listas` o `tuplas`). Son `in` y `not in`."
   ]
  },
  {
   "cell_type": "code",
   "execution_count": 7,
   "metadata": {},
   "outputs": [],
   "source": [
    "# Ejemplos de operadores\n",
    "\n"
   ]
  },
  {
   "cell_type": "markdown",
   "metadata": {},
   "source": [
    "### Estructuras condicionales\n",
    "\n",
    "* Evalúan una condición o un grupo de condiciones. En Python, el constructo `if-elif-else` es usado para este propósito.\n",
    "* Pueden ser anidados."
   ]
  },
  {
   "cell_type": "code",
   "execution_count": 8,
   "metadata": {},
   "outputs": [],
   "source": [
    "# Ejemplo sentencia if-elif-else\n",
    "\n"
   ]
  },
  {
   "cell_type": "markdown",
   "metadata": {},
   "source": [
    "### Estructuras iterativas\n",
    "\n",
    "* Son usados para evaluar una porción de códido reiteradamente. Una sola ejecución de un bloque de código es llamada `iteración` y las estructuras iterativas van a través de múltiples rondas de iteraciones. En Python, las estructuras iterativas son `while` y `for`.\n",
    "* `while`: Es usando cuando queremos ejecutar una instrucción en particular mientras una condición es `True`.\n",
    "* `for`: Es usado para ejecutar un bloque de código una cantidad predefinida de veces. Puede ser usadado con cualquier tipo de objeto iterable (como `listas` o `tuplas`). También es usado comúnmente con la función `range`.\n"
   ]
  },
  {
   "cell_type": "code",
   "execution_count": 9,
   "metadata": {},
   "outputs": [],
   "source": [
    "# Ejemplo while: calcular cantidad de numeros consecutivos necesitados para que sumen 2000, comenzando desde el 1\n",
    "\n"
   ]
  },
  {
   "cell_type": "code",
   "execution_count": 10,
   "metadata": {},
   "outputs": [],
   "source": [
    "# Ejemplo for: sumar números impares ubicados entre 1 y 500\n",
    "\n"
   ]
  },
  {
   "cell_type": "markdown",
   "metadata": {},
   "source": [
    "### Listas por comprensión"
   ]
  },
  {
   "cell_type": "markdown",
   "metadata": {},
   "source": [
    "Es una forma de crear listas a través de objetos iterables mucho más elegante y contraida respecto a la sentencia `for`. Además, se pueden añadir estructuras `if-else`."
   ]
  },
  {
   "cell_type": "code",
   "execution_count": 11,
   "metadata": {},
   "outputs": [],
   "source": [
    "# Ejemplo de lista por comprensión: sumar números impares ubicados entre 1 y 500\n",
    "\n"
   ]
  },
  {
   "cell_type": "markdown",
   "metadata": {},
   "source": [
    "## Funciones y métodos\n",
    "\n",
    "Una función es un bloque de código con un nombre asociado, que recibe cero o más argumentos como entrada, sigue una secuencia de sentencias, la cuales ejecuta una operación deseada y devuelve un valor y/o realiza una tarea, este bloque puede ser llamados cuando se necesite."
   ]
  },
  {
   "cell_type": "markdown",
   "metadata": {},
   "source": [
    "### Funciones `built-in` (ya están incorporadas)\n",
    "Algunas son:\n",
    "* `abs(v)`      : entrega valor absoluto de un valor.\n",
    "* `all(x)`      : retorna `True` si todos los valores de un iterable son `True`.\n",
    "* `any(x)`      : retorna `True` si algún valor de un iterable es `True`.\n",
    "* `bool(v)`     : retorna True al menos que el valor ingresado sea vacío, `False`, `None` o 0.\n",
    "* `float(v)`    : transforma valor a número de punto flotante (a decimal).\n",
    "* `int(v)`      : transforma valor a número entero.\n",
    "* `list(x)`     : crea un objeto tipo lista.\n",
    "* `pow(b,e)`    : calcula $b^e$ (alternativa a `b**e`).\n",
    "* `print(o)`    : convierte a `string` y muestra en pantalla un objeto.\n",
    "* `range(i,f,s)`: crea una secuencia de números enteros desde `i` hasta `f-1` con salto `s`.\n",
    "* `round(v, n)` : redondea un valor a `n` decimales.\n",
    "* `str(o)`      : convierte un objecto a `string`.\n",
    "* `type(o)`        : retorna tipo de un objeto."
   ]
  },
  {
   "cell_type": "code",
   "execution_count": 12,
   "metadata": {},
   "outputs": [],
   "source": [
    "# Ejemplos de funciones \n",
    "\n"
   ]
  },
  {
   "cell_type": "markdown",
   "metadata": {},
   "source": [
    "### Definidas por el usuario\n",
    "\n",
    "* `def`: Es una definición de función usada para crear funciones personalizadas. Esta no ejecuta el cuerpo de la función, solo lo hace cuando esta es llamada, usualmente se termina con la sentencia `return`.\n",
    "* `lambda`: Es una forma contraida para realizar funciones personalizas. A diferencia de `def`, esta no posee un nombre y por lo tanto no puede ser referenciada más tarde."
   ]
  },
  {
   "cell_type": "markdown",
   "metadata": {},
   "source": [
    "Definir \n",
    "\n",
    "$$f(x) = \\left\\{\n",
    "\\begin{array}{ll}\n",
    "2x + 1  & x \\leq 0  \\\\ x^2   & x > 0\n",
    "\\end{array} \\right.$$"
   ]
  },
  {
   "cell_type": "code",
   "execution_count": 13,
   "metadata": {},
   "outputs": [],
   "source": [
    "# Ejemplo def\n",
    "\n"
   ]
  },
  {
   "cell_type": "code",
   "execution_count": 14,
   "metadata": {},
   "outputs": [],
   "source": [
    "# Ejemplo lambda\n",
    "\n"
   ]
  },
  {
   "cell_type": "markdown",
   "metadata": {},
   "source": [
    "### Diferencia con métodos"
   ]
  },
  {
   "cell_type": "markdown",
   "metadata": {},
   "source": [
    "La principal diferencia es que un `método` es parte de una clase, o sea que es parte de la funcionalidad que tiene un objeto. En cambio, las `funciones` están definidas por si mismas."
   ]
  },
  {
   "cell_type": "code",
   "execution_count": 15,
   "metadata": {},
   "outputs": [],
   "source": [
    "# Ejemplo de método\n",
    "\n"
   ]
  },
  {
   "cell_type": "code",
   "execution_count": 16,
   "metadata": {},
   "outputs": [],
   "source": [
    "# Ejemplo de función\n",
    "\n"
   ]
  },
  {
   "cell_type": "markdown",
   "metadata": {},
   "source": [
    "### Manejo de librerías\n",
    "\n",
    "<img src=\"https://thinktecno.com/wp-content/uploads/2020/11/1605037028_Como-instalar-un-modulo-de-Python-con-PIP.png\" width=\"500px\">\n",
    "\n",
    "* Al momento de programar, a veces nos vemos en la necesidad de añadir nuevas funcionalidades al código, esto es gracias a las `librerías`, que nos aportan un grupo de `módulos` (o funciones).\n",
    "* Cada `librería` cuenta con una estructura definida para cumplir cierta finalidad.\n",
    "* Algunas de las `librerías` más importantes en Python para el análisis de datos son `NumPy`, `Pandas` y `Matplotlib`. \n",
    "\n",
    "#### Importación de librerías y módulos\n",
    "\n",
    "* Existe más de una forma para importar `librerías`, además podemos asignar un `alias` a la librería o función específica que importemos.\n",
    "* **Importar una librería**: `import libreria` o `import libreria as alias`. Podemos acceder a los módulos de la librería importada de la siguiente forma: `libreria.modulo` o `alias.modulo` respectivamente.\n",
    "* **Importar un módulo**: `from libreria import modulo` o `from libreria import modulo as alias`.  \n",
    "\n"
   ]
  },
  {
   "cell_type": "code",
   "execution_count": 17,
   "metadata": {},
   "outputs": [],
   "source": [
    "# Ejemplo de importación de librerías\n",
    "\n"
   ]
  },
  {
   "cell_type": "markdown",
   "metadata": {},
   "source": [
    "#### Instalación de librerías\n",
    "* Desde un Jupyter Notebook es muy facil instalar `librerías` desde gestores como `pip` o `Anaconda`. \n",
    "* Para instalar una librería debemos escribir `!pip install libreria` o `!conda install librería` si estamos usando este gestor.\n",
    "* En Google Colab ya vienen pre-instaladas algunas librerías básicas para el Análisis de Datos, por lo que directamente se pueden utilizar.\n",
    "* Una vez instaladas podemos importarlas normalmente."
   ]
  },
  {
   "cell_type": "code",
   "execution_count": 18,
   "metadata": {},
   "outputs": [],
   "source": [
    "# Ejemplo de instalación de librerías: instalar librería \"sweetviz\"\n",
    "\n"
   ]
  },
  {
   "cell_type": "markdown",
   "metadata": {},
   "source": [
    "## NumPy"
   ]
  },
  {
   "cell_type": "markdown",
   "metadata": {},
   "source": [
    "<img src=\"data:image/png;base64,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\" width=\"500px\">\n",
    "\n",
    "* O también _Numerical Python_, es una librería basada en Python para realizar operaciones matemáticas más complejas respecto a las las que ya están incorporadas en este lenguaje.\n",
    "* Por convención se importa con el alias `np`.\n",
    "* Su estructura más básica es el `array`, el cual es un `container` que provee características adicionales a una `lista`, tales como la multidimensionalidad, la vectorización y la coerción.\n",
    "* Podemos acceder a sus elementos a través de `subsettings`.\n",
    "* NumPy es usado como estructura base de algunas librerías como `Pandas`, `Scikit-learn`, `Scipy`, `Tensorflow`, etc."
   ]
  },
  {
   "cell_type": "markdown",
   "metadata": {},
   "source": [
    "### Creación de arrays a través de listas\n",
    "\n",
    "* Una de las formas más rápidas de crear un `array` es a través de listas. Si incorporamos las denominadas __listas de listas__ obtendremos un `array` de dos dimensiones, lo que es un simil a una matriz."
   ]
  },
  {
   "cell_type": "code",
   "execution_count": 19,
   "metadata": {},
   "outputs": [],
   "source": [
    "import numpy as np\n",
    "# Ejemplo de array unidimensional\n",
    "\n",
    "\n",
    "\n",
    "# Ejemplo array de dos dimensiones (ej: matrices)\n",
    "\n",
    "\n",
    "\n",
    "# Ejemplo de array de tres dimensiones (ej: imágenes)\n",
    "\n",
    "\n"
   ]
  },
  {
   "cell_type": "markdown",
   "metadata": {},
   "source": [
    "### Vectorización y coerción \n",
    "* **Vectorización**: es cuando una operación o función aplicada a un `array` es reflejada en todos sus valores internos.\n",
    "* **Coerción implicita**: Se aplica cuando nuestros `arrays` tienen más de un tipo de valor. La coherción se aplica en la siguiente jerarquía: \"<em>boleano</em> `->` <em>entero</em> `->` <em>flotante</em> `->` <em>string</em>\""
   ]
  },
  {
   "cell_type": "code",
   "execution_count": 20,
   "metadata": {},
   "outputs": [],
   "source": [
    "# Ejemplo de vectorización\n",
    "\n"
   ]
  },
  {
   "cell_type": "code",
   "execution_count": 21,
   "metadata": {},
   "outputs": [],
   "source": [
    "# Ejemplo de coerción\n",
    "\n"
   ]
  },
  {
   "cell_type": "markdown",
   "metadata": {},
   "source": [
    "### Manipulación y funciones básicas para arrays en NumPy\n",
    "\n",
    "#### Funciones básicas\n",
    "\n",
    "* `np.arange(i, f, s)`: símil de función `range`.\n",
    "* `np.linspace(i, f, n)`: crear array con `n` valores equidistantes entre `i` y `f`.\n",
    "* `np.zeros(dim)` y `np.ones(dim)`: crear array con ceros o unos de las dimensiones indicadas.\n",
    "* `np.full(dim, v)`: crear array unicamente con el valor `v` de las dimensiones indicadas.\n",
    "* `np.repeat(v, t)`: array con `t` veces el valor `v`. Este último también puede ser un array, en tal caso, repetirá cada elemente del array `t` veces. \n",
    "* `np.exp(n)`: potencia `n` del valor $e$ de Euler.\n",
    "* `np.where(condicion_array, valor_si_cumple, valor_si_no_cumple)`: array que tendra solo los valores según si `x` array cumple o no cierta condición.\n",
    "* `np.dot(A, B)`: producto punto o matricial entre `A` y `B`. Alternativamente: `A @ B`.\n",
    "* `np.random.randint`, `np.random.normal`, `np.random.exponential`, `np.random.uniform`, `np.random.poisson`: Generación de números aleatorios.\n",
    "* Otros: `np.mean`, `np.std`, `np.var`, `np.quantile`, `np.sum`, `np.prod`, `np.cumsum`, `np.cumprod`, etc."
   ]
  },
  {
   "cell_type": "code",
   "execution_count": 22,
   "metadata": {},
   "outputs": [],
   "source": [
    "# Ejemplos de funciones de NumPy\n",
    "\n"
   ]
  },
  {
   "cell_type": "markdown",
   "metadata": {},
   "source": [
    "#### Métodos básicos\n",
    "\n",
    "Supongamos que `x` es un array.\n",
    "\n",
    "* `x.shape`: dimensiones de x.\n",
    "* `x.reshape(dim)`: redimensionar array a las dimensiones indicadas.\n",
    "* `x.T`: transponer `x`.\n",
    "* `x.sort()`: ordenar array.\n",
    "* Además, cuenta con la mayoría de las funciones mencionadas arriba! `x.mean()`, `x.median()`, `x.std()`, `x.dot(A)`, etc."
   ]
  },
  {
   "cell_type": "code",
   "execution_count": 23,
   "metadata": {},
   "outputs": [],
   "source": [
    "# Ejemplos de métodos de NumPy\n",
    "\n"
   ]
  },
  {
   "cell_type": "markdown",
   "metadata": {},
   "source": [
    "## Pandas\n",
    "\n",
    "<img src=\"https://hermes.digitalinnovation.one/articles/cover/c068580b-7f2d-4314-a559-697487b644df.jpg\" width=\"500px\">"
   ]
  },
  {
   "cell_type": "markdown",
   "metadata": {},
   "source": [
    "* Fue desarrollada en 2008 con el propósito de manejar series de tiempo. Su nombre se puede descomponer como _Panel Data_.\n",
    "* Por convención se importa con el alias `np`.\n",
    "* Tiene soporte para cargar archivos y guardar archivos fuera de Python.\n",
    "* Tiene una performance bastante aceptable al estar desarrollada bajo _Cython_ (Uso de Python bajo el lenguaje C).\n",
    "* Rápida conexión con otras librerías como `NumPy`, `Matplotlib`, `Scipy` y `Scikit-learn`.\n",
    "* Soporte para transformación de datos.\n",
    "* Manejo de datos faltantes.\n",
    "* Etc."
   ]
  },
  {
   "cell_type": "markdown",
   "metadata": {},
   "source": [
    "### Estructura DataFrame y Series\n",
    "\n",
    "* `Series`: Estructura de datos unidimensional con un conjunto de datos asociados a un índice. Se puede crear directamente desde un `array` o una `lista`.\n",
    "* `DataFrame`: Es una extensión de las `Series`. Mientras que un objecto `Series` contiene dos componentes: un set de valores e índices asociados, el `DataFrame` contiene tres componentes: Eje 0 (filas), Eje 1 (columnas) e índices asociados a cada fila. Su estrcutura básica es el `array` de NumPy. Se puede crear directamente desde un `diccionario`."
   ]
  },
  {
   "cell_type": "code",
   "execution_count": 24,
   "metadata": {},
   "outputs": [],
   "source": [
    "import pandas as pd\n",
    "# Ejemplo de crear Series\n",
    "precios = [1000, 2000, 1500, 300, 600, 500, 5000]\n",
    "\n",
    "\n"
   ]
  },
  {
   "cell_type": "code",
   "execution_count": 25,
   "metadata": {},
   "outputs": [],
   "source": [
    "# Ejemplo de crear DataFrame\n",
    "diccionario = {\n",
    "    \"País\"     : [\"Chile\", \"Argentina\", \"Bolivia\", \"Perú\", \"Brasil\"],\n",
    "    \"Mundiales\": [0, 2, 0, 0, 5],\n",
    "    \"Copas América\" : [2, 15, 1, 2, 9]\n",
    "}\n",
    "\n",
    "\n"
   ]
  },
  {
   "cell_type": "markdown",
   "metadata": {},
   "source": [
    "### Carga de datos\n",
    "\n",
    "* `Pandas` puede leer datos desde una gran variedad de formatos usando sus funciones de carga.\n",
    "* Algunas de estas funciones son `pd.read_csv`, `pd.read_excel`, `read_html` y `read_stata`.\n",
    "* Podemos indicar varios argumentos como `columns`, `date_parser` o `index_col`.\n",
    "* Además, accedemos a las cinco primeras entradas de las bases de datos cargadas con el método `head()`. \n",
    "* Obtenemos una descripción cuantitativa con el método `describe()`.\n",
    "* Visualizamos tipos de variables y datos faltantes con el método `info()`.\n",
    "* Obtenemos columnas de la base de datos con el método `columns`.\n",
    "\n",
    "Caguemos la base de datos `BTC-USD.csv`, que nos indica el valor del Bitcoin en dólares desde 2014 a la fecha. La puede encontrar disponible en el siguiente [link](https://github.com/estebanrucan/taller-python/raw/master/data/BTC-USD.csv)."
   ]
  },
  {
   "cell_type": "code",
   "execution_count": 31,
   "metadata": {},
   "outputs": [],
   "source": [
    "# Ejemplo carga de bases de datos: Cargar BTC-USD.csv, mostrar cinco primeras entradas, descripción cuantitativa e información sobre datos faltantes.\n",
    "\n",
    "\n"
   ]
  },
  {
   "cell_type": "markdown",
   "metadata": {},
   "source": [
    "### Seleccionar columnas\n",
    "\n",
    "* Además de incorporar métodos a los objetos `DataFrame`, también podemos utilizar subsettings. A continuación tres formas de hacerlo.\n",
    "* __Incorporar subsetting directamente__: `datos[listado_de_columnas]`.\n",
    "* __Seleccionar columnas de acuerdo a su localización__: `datos.loc[:, listado_de_columnas]`.\n",
    "* __Seleccionar columnas de acuerdo a su índice__: `datos.iloc[:, lista_con_indices_de_columnas]`.\n",
    "* Si seleccionamos solo una variable, obtendremos un objeto del tipo `Series`."
   ]
  },
  {
   "cell_type": "code",
   "execution_count": null,
   "metadata": {},
   "outputs": [],
   "source": [
    "# Ejemplo de seleccionar columnas: seleccionar variables \"Date\" y \"Open\" de la base de datos de Bitcoin.\n",
    "\n"
   ]
  },
  {
   "cell_type": "markdown",
   "metadata": {},
   "source": [
    "### Crear columnas\n",
    "* Se realiza un subsetting indicando el nombre que tendrá la nueva variable, acompañada de un signo `=` y la información que contendrá esta."
   ]
  },
  {
   "cell_type": "code",
   "execution_count": 35,
   "metadata": {},
   "outputs": [],
   "source": [
    "# Ejemplo de crear variables: Calcular rango de variación diario del Bitcoin en dólares.\n",
    "\n"
   ]
  },
  {
   "cell_type": "markdown",
   "metadata": {},
   "source": [
    "### Filtrar datos bajo una condición.\n",
    "* Se emplea de forma similar a seleccionar variables: `datos[condicion]`.\n",
    "* Para consultas sencillas podemos usar el método `query(\"condicion\")`."
   ]
  },
  {
   "cell_type": "code",
   "execution_count": 33,
   "metadata": {},
   "outputs": [],
   "source": [
    "# Ejemplo de filtro: seleccione los datos que corresponden solo al año 2021\n",
    "\n",
    "\n"
   ]
  },
  {
   "cell_type": "markdown",
   "metadata": {},
   "source": [
    "### Métodos importantes para Análisis de Datos\n",
    "* Sobre `Series`: se heredan métodos de NumPy. Por ejemplo: `datos[variable].mean()`\n",
    "* Métodos adicionales de `Series`:\n",
    "  * `value_counts()`: contar veces que se repiten categorías en una variable categórica.\n",
    "  * `sort_values()`: ordenar valores de menor a mayor, se puede incorporar parámetro `ascending=False`. \n",
    "* Métodos para `DataFrame`s:\n",
    "  * `sort_values(lista_variables)`: ordenar base de datos según variable(s) en específico.\n",
    "  * `drop(columns = lista_variables)`: eliminar variables de base de datos.\n",
    "  * `isna().sum()`: utilizado para ver cantidad de datos faltantes por variable.\n",
    "  * `dropna()`: eliminar filas con datos faltantes.\n",
    "  * `drop_duplicates()`: eliminar filas que se encuentren duplicadas.\n",
    "  * `groupby(lista_columnas)`: Agrupar base de datos según variable. Se suele acompañar del método `agg`.\n",
    "  * `agg(lista_resumenes)`: Mostrar estadísticas de resumen para datos agrupados previamente por método `groupby` (opcional).\n",
    "  * Resúmenes para el método `agg`: Pueden ser funciones de `NumPy` o `\"mean\"`, `\"std\"`, `\"median\"`, `\"count\"`, etc."
   ]
  },
  {
   "cell_type": "markdown",
   "metadata": {},
   "source": [
    "### Visualización de datos desde un DataFrame.\n",
    "* Se debe agregar método `plot` y dentro de este, las variables a graficar entre comillas.\n",
    "* Algunos tipos de gráficos disponibles desde el método: `bar`, `density`, `hist`, `kde`, `line`, `pie`, `scatter`, etc."
   ]
  },
  {
   "cell_type": "code",
   "execution_count": 37,
   "metadata": {},
   "outputs": [],
   "source": [
    "# Ejemplo de gráfico de líneas: Gráficar variable High en el tiempo.\n",
    "\n"
   ]
  },
  {
   "cell_type": "markdown",
   "metadata": {},
   "source": [
    "### Visualización de datos desde un iterable\n",
    "\n",
    "<img src=\"https://interactivechaos.com/sites/default/files/inline-images/tutorial_matplotlib.png\" width=\"500px\">\n",
    "\n",
    "* Para ello debemos importar la librería `matplotlib`, que nos ofrece una amplia colección de módulos para realizar gráficos.\n",
    "* Por convención se importa el módulo `pyplot` de `matplotlib` con el alias `plt`.\n",
    "* Nos permite acceder a distintos tipos de gráficos desde el comando `plt`. Podemos indicar iterables como `array`s, `Series` (se transforman a `array`s internamente) y `listas`. "
   ]
  },
  {
   "cell_type": "code",
   "execution_count": 46,
   "metadata": {},
   "outputs": [],
   "source": [
    "import matplotlib.pyplot as plt\n",
    "opciones = ['Si', 'No', 'No lo sé']\n",
    "cantidad = [20, 15, 10]\n",
    "# Graficar barras de una encuestra sobre sobre si votaría sobre determinad@ candidat@ presidencial\n",
    "\n",
    "\n"
   ]
  },
  {
   "cell_type": "markdown",
   "metadata": {},
   "source": [
    "## Actividad Práctica"
   ]
  },
  {
   "cell_type": "markdown",
   "metadata": {},
   "source": [
    "### Pregunta 1\n",
    "Ingrese en su entorno de trabajo la base de datos `Sample - Superstore.xls` disponible en el siguiente [link](https://github.com/estebanrucan/taller-python/raw/master/data/Sample%20-%20Superstore.xls)."
   ]
  },
  {
   "cell_type": "code",
   "execution_count": null,
   "metadata": {},
   "outputs": [],
   "source": [
    "# Desarrollo Pregunta 1\n",
    "\n"
   ]
  },
  {
   "cell_type": "markdown",
   "metadata": {},
   "source": [
    "### Pregunta 2\n",
    "Cargue la base de datos en una variable llamada `cadena_usa`."
   ]
  },
  {
   "cell_type": "code",
   "execution_count": null,
   "metadata": {},
   "outputs": [],
   "source": [
    "# Desarrollo Pregunta 2\n",
    "\n",
    "\n"
   ]
  },
  {
   "cell_type": "markdown",
   "metadata": {},
   "source": [
    "### Pregunta 3\n",
    "Realice un Análisis Exploratorio que permita descubrir el efecto que tiene el porcentaje de descuento sobre el profit obtenido con los productos vendidos, incluya gráficos en el análisis ¿Qué conclusiones se logran obtener? ¿Cuál sería su recomendación?"
   ]
  },
  {
   "cell_type": "code",
   "execution_count": 1,
   "metadata": {},
   "outputs": [],
   "source": [
    "# Desarrollo Pregunta 3\n",
    "\n",
    "\n"
   ]
  },
  {
   "cell_type": "markdown",
   "metadata": {},
   "source": [
    "### Pregunta 4\n",
    "¿Que categoría de producto genera mayores ingresos? ¿Cuál es la categoría de producto más vendida?"
   ]
  },
  {
   "cell_type": "code",
   "execution_count": null,
   "metadata": {},
   "outputs": [],
   "source": [
    "# Desarrollo Pregunta 4\n",
    "\n",
    "\n"
   ]
  },
  {
   "cell_type": "markdown",
   "metadata": {},
   "source": [
    "### Pregunta 5\n",
    "Cree un ciclo que obtenga tablas sobre la sub-categoría que genera más ventas en dólares en cada estado de USA. Los resultados deben ser almacenados en un diccionario. ¿Cuál es la categoría más vendida en New York?"
   ]
  },
  {
   "cell_type": "code",
   "execution_count": null,
   "metadata": {},
   "outputs": [],
   "source": [
    "# Desarrollo Pregunta 5\n",
    "\n",
    "\n"
   ]
  },
  {
   "cell_type": "markdown",
   "metadata": {},
   "source": [
    "### Pregunta 6\n",
    "Ha sido un largo día, tome un descanso. Ejecute el siguiente bloque de código:"
   ]
  },
  {
   "cell_type": "code",
   "execution_count": 7,
   "metadata": {},
   "outputs": [
    {
     "name": "stderr",
     "output_type": "stream",
     "text": [
      "Done! Use 'show' commands to display/save.   |██████████| [100%]   00:00 -> (00:00 left)\n"
     ]
    },
    {
     "name": "stdout",
     "output_type": "stream",
     "text": [
      "Report SWEETVIZ_REPORT.html was generated! NOTEBOOK/COLAB USERS: the web browser MAY not pop up, regardless, the report IS saved in your notebook/colab files.\n"
     ]
    }
   ],
   "source": [
    "import sweetviz as sv\n",
    "\n",
    "analisis = sv.analyze(cadena_usa)\n",
    "analisis.show_html()"
   ]
  },
  {
   "cell_type": "markdown",
   "metadata": {},
   "source": [
    "## Referencias y material complementario\n",
    "\n",
    "### Referencias\n",
    "\n",
    "* A Python Data Analyst's Toolkit: Learn Python and Python-based Libraries whit Aplications in Data Analysis and Statistics. Año: 2021. Autor: Gayathri Rajagopalan. Editorial: APRESS.\n",
    "* Documentación de Numpy: <https://numpy.org/doc/>\n",
    "* Documentación de Pandas: <https://pandas.pydata.org/docs/>\n",
    "* Documentación de Matplotlib: <https://matplotlib.org/>\n",
    "\n",
    "### Material complementario y links de interés\n",
    "* Mi libro de apuntes: <https://estebanrucan.github.io/personal-book/>\n",
    "* Data Science UC: <https://datascience.uc.cl/>\n",
    "* Programas de posgrado Facultad de Matemáticas UC: <http://www.mat.uc.cl//programas-de-postgrado.html>"
   ]
  }
 ],
 "metadata": {
  "interpreter": {
   "hash": "a782e91f3854434a1924d5cbeed94dcce0f1ab6e0958f272b7513c90004e79a3"
  },
  "kernelspec": {
   "display_name": "Python 3.9.7 64-bit ('myenv': conda)",
   "language": "python",
   "name": "python3"
  },
  "language_info": {
   "codemirror_mode": {
    "name": "ipython",
    "version": 3
   },
   "file_extension": ".py",
   "mimetype": "text/x-python",
   "name": "python",
   "nbconvert_exporter": "python",
   "pygments_lexer": "ipython3",
   "version": "3.8.12"
  },
  "orig_nbformat": 4
 },
 "nbformat": 4,
 "nbformat_minor": 2
}
